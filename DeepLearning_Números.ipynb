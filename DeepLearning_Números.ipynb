{
 "cells": [
  {
   "cell_type": "code",
   "execution_count": 9,
   "metadata": {},
   "outputs": [],
   "source": [
    "import tensorflow as tf\n",
    "from tensorflow.examples.tutorials.mnist import input_data"
   ]
  },
  {
   "cell_type": "code",
   "execution_count": 11,
   "metadata": {},
   "outputs": [
    {
     "name": "stdout",
     "output_type": "stream",
     "text": [
      "Extracting MNIST_data/train-images-idx3-ubyte.gz\n",
      "Extracting MNIST_data/train-labels-idx1-ubyte.gz\n",
      "Extracting MNIST_data/t10k-images-idx3-ubyte.gz\n",
      "Extracting MNIST_data/t10k-labels-idx1-ubyte.gz\n"
     ]
    }
   ],
   "source": [
    "mnist=input_data.read_data_sets(\"MNIST_data/\", one_hot=True)"
   ]
  },
  {
   "cell_type": "code",
   "execution_count": 19,
   "metadata": {},
   "outputs": [],
   "source": [
    "x=tf.placeholder(tf.float32,[None,784])\n",
    "P=tf.Variable(tf.zeros([784,10]))\n",
    "b=tf.Variable(tf.zeros([10]))\n",
    "y=tf.matmul(x,P)+b\n",
    "yR=tf.placeholder(tf.float32,[None,10])"
   ]
  },
  {
   "cell_type": "code",
   "execution_count": 22,
   "metadata": {},
   "outputs": [],
   "source": [
    "softmax=tf.nn.softmax_cross_entropy_with_logits(labels=yR,logits=y)\n",
    "costo=tf.reduce_mean(softmax)\n",
    "optimizador=tf.train.GradientDescentOptimizer(0.5).minimize(costo)"
   ]
  },
  {
   "cell_type": "code",
   "execution_count": 45,
   "metadata": {},
   "outputs": [
    {
     "name": "stderr",
     "output_type": "stream",
     "text": [
      "C:\\Users\\percy\\AppData\\Local\\conda\\conda\\envs\\tensorflow\\lib\\site-packages\\tensorflow\\python\\client\\session.py:1711: UserWarning: An interactive session is already active. This can cause out-of-memory errors in some cases. You must explicitly call `InteractiveSession.close()` to release resources held by the other session(s).\n",
      "  warnings.warn('An interactive session is already active. This can '\n"
     ]
    }
   ],
   "source": [
    "prediccion=tf.equal(tf.argmax(y,1),tf.argmax(yR,1))\n",
    "\n",
    "accuracy=tf.reduce_mean(tf.cast(prediccion,tf.float32))\n",
    "Produccion=tf.argmax(y,1)\n",
    "sess=tf.InteractiveSession()\n",
    "init=tf.global_variables_initializer()"
   ]
  },
  {
   "cell_type": "code",
   "execution_count": 46,
   "metadata": {},
   "outputs": [],
   "source": [
    "def avance(epoca_i, sess, last_features, last_labels):\n",
    "    costoActual=sess.run(costo,feed_dict={x: last_features ,yR: last_labels})\n",
    "    Certeza=sess.run(accuracy, feed_dict={x:mnist.validation.images, yR: mnist.validation.labels})\n",
    "    print('Epoca:{:<4} - Costo:{:<8.3} Certeza: {:<5.3}'.format(epoca_i,costoActual,Certeza))"
   ]
  },
  {
   "cell_type": "code",
   "execution_count": 47,
   "metadata": {},
   "outputs": [
    {
     "name": "stdout",
     "output_type": "stream",
     "text": [
      "Epoca:0    - Costo:1.66     Certeza: 0.31 \n",
      "Epoca:50   - Costo:0.539    Certeza: 0.875\n",
      "Epoca:100  - Costo:0.264    Certeza: 0.892\n",
      "Epoca:150  - Costo:0.231    Certeza: 0.899\n",
      "Epoca:200  - Costo:0.412    Certeza: 0.898\n",
      "Epoca:250  - Costo:0.306    Certeza: 0.903\n",
      "Epoca:300  - Costo:0.183    Certeza: 0.911\n",
      "Epoca:350  - Costo:0.276    Certeza: 0.916\n",
      "Epoca:400  - Costo:0.174    Certeza: 0.908\n",
      "Epoca:450  - Costo:0.329    Certeza: 0.913\n",
      "Epoca:500  - Costo:0.283    Certeza: 0.916\n",
      "Epoca:550  - Costo:0.456    Certeza: 0.918\n",
      "Epoca:600  - Costo:0.152    Certeza: 0.917\n",
      "Epoca:650  - Costo:0.238    Certeza: 0.919\n",
      "Epoca:700  - Costo:0.274    Certeza: 0.916\n",
      "Epoca:750  - Costo:0.26     Certeza: 0.915\n",
      "Epoca:800  - Costo:0.284    Certeza: 0.922\n",
      "Epoca:850  - Costo:0.403    Certeza: 0.918\n",
      "Epoca:900  - Costo:0.234    Certeza: 0.92 \n",
      "Epoca:950  - Costo:0.238    Certeza: 0.923\n",
      "RESULTADO FINAL:  0.9206\n",
      "Resultado de una imagen [2]\n"
     ]
    }
   ],
   "source": [
    "with tf.Session() as sess:\n",
    "    sess.run(init)\n",
    "    for epoca_i in range(1000):\n",
    "        lotex, lotey = mnist.train.next_batch(100)\n",
    "        sess.run(optimizador, feed_dict={x: lotex, yR: lotey})\n",
    "        if (epoca_i%50==0):\n",
    "            avance(epoca_i, sess, lotex, lotey)\n",
    "    print('RESULTADO FINAL: ',sess.run(accuracy, feed_dict={x: mnist.test.images,yR: mnist.test.labels}))\n",
    "    print('Resultado de una imagen', sess.run(Produccion, feed_dict={x: mnist.test.images[1].reshape(1,784)}))"
   ]
  },
  {
   "cell_type": "code",
   "execution_count": null,
   "metadata": {},
   "outputs": [],
   "source": []
  }
 ],
 "metadata": {
  "kernelspec": {
   "display_name": "Python 3",
   "language": "python",
   "name": "python3"
  },
  "language_info": {
   "codemirror_mode": {
    "name": "ipython",
    "version": 3
   },
   "file_extension": ".py",
   "mimetype": "text/x-python",
   "name": "python",
   "nbconvert_exporter": "python",
   "pygments_lexer": "ipython3",
   "version": "3.5.5"
  }
 },
 "nbformat": 4,
 "nbformat_minor": 2
}
