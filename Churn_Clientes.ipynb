{
 "cells": [
  {
   "cell_type": "code",
   "execution_count": 1,
   "metadata": {},
   "outputs": [],
   "source": [
    "import pandas as pd\n",
    "from sklearn.model_selection import train_test_split\n",
    "from sklearn.ensemble import RandomForestClassifier\n",
    "from sklearn.metrics import confusion_matrix, roc_curve\n",
    "import matplotlib.pyplot as plt\n",
    "import os\n",
    "import numpy as np\n",
    "from IPython.display import display, HTML\n",
    "%matplotlib inline"
   ]
  },
  {
   "cell_type": "code",
   "execution_count": 2,
   "metadata": {},
   "outputs": [],
   "source": [
    "os.chdir('F:/Carpeta Drive/Python/Base')"
   ]
  },
  {
   "cell_type": "code",
   "execution_count": 3,
   "metadata": {},
   "outputs": [],
   "source": [
    "df=pd.read_excel('Churn.xls')"
   ]
  },
  {
   "cell_type": "code",
   "execution_count": 4,
   "metadata": {},
   "outputs": [
    {
     "data": {
      "text/plain": [
       "(3333, 21)"
      ]
     },
     "execution_count": 4,
     "metadata": {},
     "output_type": "execute_result"
    }
   ],
   "source": [
    "df.shape"
   ]
  },
  {
   "cell_type": "code",
   "execution_count": 5,
   "metadata": {},
   "outputs": [
    {
     "name": "stdout",
     "output_type": "stream",
     "text": [
      "<class 'pandas.core.frame.DataFrame'>\n",
      "RangeIndex: 3333 entries, 0 to 3332\n",
      "Data columns (total 21 columns):\n",
      "Account Length    3333 non-null int64\n",
      "VMail Message     3333 non-null int64\n",
      "Day Mins          3333 non-null float64\n",
      "Eve Mins          3333 non-null float64\n",
      "Night Mins        3333 non-null float64\n",
      "Intl Mins         3333 non-null float64\n",
      "CustServ Calls    3333 non-null int64\n",
      "Churn             3333 non-null int64\n",
      "Int'l Plan        3333 non-null int64\n",
      "VMail Plan        3333 non-null int64\n",
      "Day Calls         3333 non-null int64\n",
      "Day Charge        3333 non-null float64\n",
      "Eve Calls         3333 non-null int64\n",
      "Eve Charge        3333 non-null float64\n",
      "Night Calls       3333 non-null int64\n",
      "Night Charge      3333 non-null float64\n",
      "Intl Calls        3333 non-null int64\n",
      "Intl Charge       3333 non-null float64\n",
      "State             3333 non-null object\n",
      "Area Code         3333 non-null int64\n",
      "Phone             3333 non-null object\n",
      "dtypes: float64(8), int64(11), object(2)\n",
      "memory usage: 546.9+ KB\n"
     ]
    }
   ],
   "source": [
    "df.info()"
   ]
  },
  {
   "cell_type": "code",
   "execution_count": 6,
   "metadata": {},
   "outputs": [
    {
     "data": {
      "text/html": [
       "<div>\n",
       "<style scoped>\n",
       "    .dataframe tbody tr th:only-of-type {\n",
       "        vertical-align: middle;\n",
       "    }\n",
       "\n",
       "    .dataframe tbody tr th {\n",
       "        vertical-align: top;\n",
       "    }\n",
       "\n",
       "    .dataframe thead th {\n",
       "        text-align: right;\n",
       "    }\n",
       "</style>\n",
       "<table border=\"1\" class=\"dataframe\">\n",
       "  <thead>\n",
       "    <tr style=\"text-align: right;\">\n",
       "      <th></th>\n",
       "      <th>Account Length</th>\n",
       "      <th>VMail Message</th>\n",
       "      <th>Day Mins</th>\n",
       "      <th>Eve Mins</th>\n",
       "      <th>Night Mins</th>\n",
       "      <th>Intl Mins</th>\n",
       "      <th>CustServ Calls</th>\n",
       "      <th>Churn</th>\n",
       "      <th>Int'l Plan</th>\n",
       "      <th>VMail Plan</th>\n",
       "      <th>...</th>\n",
       "      <th>Day Charge</th>\n",
       "      <th>Eve Calls</th>\n",
       "      <th>Eve Charge</th>\n",
       "      <th>Night Calls</th>\n",
       "      <th>Night Charge</th>\n",
       "      <th>Intl Calls</th>\n",
       "      <th>Intl Charge</th>\n",
       "      <th>State</th>\n",
       "      <th>Area Code</th>\n",
       "      <th>Phone</th>\n",
       "    </tr>\n",
       "  </thead>\n",
       "  <tbody>\n",
       "    <tr>\n",
       "      <th>0</th>\n",
       "      <td>128</td>\n",
       "      <td>25</td>\n",
       "      <td>265.1</td>\n",
       "      <td>197.4</td>\n",
       "      <td>244.7</td>\n",
       "      <td>10.0</td>\n",
       "      <td>1</td>\n",
       "      <td>0</td>\n",
       "      <td>0</td>\n",
       "      <td>1</td>\n",
       "      <td>...</td>\n",
       "      <td>45.07</td>\n",
       "      <td>99</td>\n",
       "      <td>16.78</td>\n",
       "      <td>91</td>\n",
       "      <td>11.01</td>\n",
       "      <td>3</td>\n",
       "      <td>2.70</td>\n",
       "      <td>KS</td>\n",
       "      <td>415</td>\n",
       "      <td>382-4657</td>\n",
       "    </tr>\n",
       "    <tr>\n",
       "      <th>1</th>\n",
       "      <td>107</td>\n",
       "      <td>26</td>\n",
       "      <td>161.6</td>\n",
       "      <td>195.5</td>\n",
       "      <td>254.4</td>\n",
       "      <td>13.7</td>\n",
       "      <td>1</td>\n",
       "      <td>0</td>\n",
       "      <td>0</td>\n",
       "      <td>1</td>\n",
       "      <td>...</td>\n",
       "      <td>27.47</td>\n",
       "      <td>103</td>\n",
       "      <td>16.62</td>\n",
       "      <td>103</td>\n",
       "      <td>11.45</td>\n",
       "      <td>3</td>\n",
       "      <td>3.70</td>\n",
       "      <td>OH</td>\n",
       "      <td>415</td>\n",
       "      <td>371-7191</td>\n",
       "    </tr>\n",
       "    <tr>\n",
       "      <th>2</th>\n",
       "      <td>137</td>\n",
       "      <td>0</td>\n",
       "      <td>243.4</td>\n",
       "      <td>121.2</td>\n",
       "      <td>162.6</td>\n",
       "      <td>12.2</td>\n",
       "      <td>0</td>\n",
       "      <td>0</td>\n",
       "      <td>0</td>\n",
       "      <td>0</td>\n",
       "      <td>...</td>\n",
       "      <td>41.38</td>\n",
       "      <td>110</td>\n",
       "      <td>10.30</td>\n",
       "      <td>104</td>\n",
       "      <td>7.32</td>\n",
       "      <td>5</td>\n",
       "      <td>3.29</td>\n",
       "      <td>NJ</td>\n",
       "      <td>415</td>\n",
       "      <td>358-1921</td>\n",
       "    </tr>\n",
       "    <tr>\n",
       "      <th>3</th>\n",
       "      <td>84</td>\n",
       "      <td>0</td>\n",
       "      <td>299.4</td>\n",
       "      <td>61.9</td>\n",
       "      <td>196.9</td>\n",
       "      <td>6.6</td>\n",
       "      <td>2</td>\n",
       "      <td>0</td>\n",
       "      <td>1</td>\n",
       "      <td>0</td>\n",
       "      <td>...</td>\n",
       "      <td>50.90</td>\n",
       "      <td>88</td>\n",
       "      <td>5.26</td>\n",
       "      <td>89</td>\n",
       "      <td>8.86</td>\n",
       "      <td>7</td>\n",
       "      <td>1.78</td>\n",
       "      <td>OH</td>\n",
       "      <td>408</td>\n",
       "      <td>375-9999</td>\n",
       "    </tr>\n",
       "    <tr>\n",
       "      <th>4</th>\n",
       "      <td>75</td>\n",
       "      <td>0</td>\n",
       "      <td>166.7</td>\n",
       "      <td>148.3</td>\n",
       "      <td>186.9</td>\n",
       "      <td>10.1</td>\n",
       "      <td>3</td>\n",
       "      <td>0</td>\n",
       "      <td>1</td>\n",
       "      <td>0</td>\n",
       "      <td>...</td>\n",
       "      <td>28.34</td>\n",
       "      <td>122</td>\n",
       "      <td>12.61</td>\n",
       "      <td>121</td>\n",
       "      <td>8.41</td>\n",
       "      <td>3</td>\n",
       "      <td>2.73</td>\n",
       "      <td>OK</td>\n",
       "      <td>415</td>\n",
       "      <td>330-6626</td>\n",
       "    </tr>\n",
       "  </tbody>\n",
       "</table>\n",
       "<p>5 rows × 21 columns</p>\n",
       "</div>"
      ],
      "text/plain": [
       "   Account Length  VMail Message  Day Mins  Eve Mins  Night Mins  Intl Mins  \\\n",
       "0             128             25     265.1     197.4       244.7       10.0   \n",
       "1             107             26     161.6     195.5       254.4       13.7   \n",
       "2             137              0     243.4     121.2       162.6       12.2   \n",
       "3              84              0     299.4      61.9       196.9        6.6   \n",
       "4              75              0     166.7     148.3       186.9       10.1   \n",
       "\n",
       "   CustServ Calls  Churn  Int'l Plan  VMail Plan    ...     Day Charge  \\\n",
       "0               1      0           0           1    ...          45.07   \n",
       "1               1      0           0           1    ...          27.47   \n",
       "2               0      0           0           0    ...          41.38   \n",
       "3               2      0           1           0    ...          50.90   \n",
       "4               3      0           1           0    ...          28.34   \n",
       "\n",
       "   Eve Calls  Eve Charge  Night Calls  Night Charge  Intl Calls  Intl Charge  \\\n",
       "0         99       16.78           91         11.01           3         2.70   \n",
       "1        103       16.62          103         11.45           3         3.70   \n",
       "2        110       10.30          104          7.32           5         3.29   \n",
       "3         88        5.26           89          8.86           7         1.78   \n",
       "4        122       12.61          121          8.41           3         2.73   \n",
       "\n",
       "   State Area Code     Phone  \n",
       "0     KS       415  382-4657  \n",
       "1     OH       415  371-7191  \n",
       "2     NJ       415  358-1921  \n",
       "3     OH       408  375-9999  \n",
       "4     OK       415  330-6626  \n",
       "\n",
       "[5 rows x 21 columns]"
      ]
     },
     "metadata": {},
     "output_type": "display_data"
    }
   ],
   "source": [
    "display(df.head(5))"
   ]
  },
  {
   "cell_type": "code",
   "execution_count": 7,
   "metadata": {},
   "outputs": [
    {
     "data": {
<<<<<<< HEAD
=======
      "text/plain": [
       "<matplotlib.axes._subplots.AxesSubplot at 0x270bf19c518>"
      ]
     },
     "execution_count": 7,
     "metadata": {},
     "output_type": "execute_result"
    },
    {
     "data": {
>>>>>>> origin/master
      "image/png": "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\n",
      "text/plain": [
       "<Figure size 432x288 with 1 Axes>"
      ]
     },
     "metadata": {},
     "output_type": "display_data"
    }
   ],
   "source": [
<<<<<<< HEAD
    "df.groupby('State')['State'].count().plot(kind='bar');"
=======
    "df.groupby('State')['State'].count().plot(kind='bar')"
>>>>>>> origin/master
   ]
  },
  {
   "cell_type": "code",
   "execution_count": 8,
   "metadata": {},
   "outputs": [
    {
     "name": "stdout",
     "output_type": "stream",
     "text": [
      "Number of rows:  3333\n"
     ]
    },
    {
     "data": {
      "text/html": [
       "<div>\n",
       "<style scoped>\n",
       "    .dataframe tbody tr th:only-of-type {\n",
       "        vertical-align: middle;\n",
       "    }\n",
       "\n",
       "    .dataframe tbody tr th {\n",
       "        vertical-align: top;\n",
       "    }\n",
       "\n",
       "    .dataframe thead th {\n",
       "        text-align: right;\n",
       "    }\n",
       "</style>\n",
       "<table border=\"1\" class=\"dataframe\">\n",
       "  <thead>\n",
       "    <tr style=\"text-align: right;\">\n",
       "      <th></th>\n",
       "      <th>Account Length</th>\n",
       "      <th>VMail Message</th>\n",
       "      <th>Day Mins</th>\n",
       "      <th>Eve Mins</th>\n",
       "      <th>Night Mins</th>\n",
       "      <th>Intl Mins</th>\n",
       "      <th>CustServ Calls</th>\n",
       "      <th>Churn</th>\n",
       "      <th>Int'l Plan</th>\n",
       "      <th>VMail Plan</th>\n",
       "      <th>Day Calls</th>\n",
       "      <th>Day Charge</th>\n",
       "      <th>Eve Calls</th>\n",
       "      <th>Eve Charge</th>\n",
       "      <th>Night Calls</th>\n",
       "      <th>Night Charge</th>\n",
       "      <th>Intl Calls</th>\n",
       "      <th>Intl Charge</th>\n",
       "      <th>Area Code</th>\n",
       "    </tr>\n",
       "  </thead>\n",
       "  <tbody>\n",
       "    <tr>\n",
       "      <th>Count of values</th>\n",
       "      <td>3333.0</td>\n",
       "      <td>3333.0</td>\n",
       "      <td>3333.0</td>\n",
       "      <td>3333.0</td>\n",
       "      <td>3333.0</td>\n",
       "      <td>3333.0</td>\n",
       "      <td>3333.0</td>\n",
       "      <td>3333.0</td>\n",
       "      <td>3333.0</td>\n",
       "      <td>3333.0</td>\n",
       "      <td>3333.0</td>\n",
       "      <td>3333.0</td>\n",
       "      <td>3333.0</td>\n",
       "      <td>3333.0</td>\n",
       "      <td>3333.0</td>\n",
       "      <td>3333.0</td>\n",
       "      <td>3333.0</td>\n",
       "      <td>3333.0</td>\n",
       "      <td>3333.0</td>\n",
       "    </tr>\n",
       "  </tbody>\n",
       "</table>\n",
       "</div>"
      ],
      "text/plain": [
       "                 Account Length  VMail Message  Day Mins  Eve Mins  \\\n",
       "Count of values          3333.0         3333.0    3333.0    3333.0   \n",
       "\n",
       "                 Night Mins  Intl Mins  CustServ Calls   Churn  Int'l Plan  \\\n",
       "Count of values      3333.0     3333.0          3333.0  3333.0      3333.0   \n",
       "\n",
       "                 VMail Plan  Day Calls  Day Charge  Eve Calls  Eve Charge  \\\n",
       "Count of values      3333.0     3333.0      3333.0     3333.0      3333.0   \n",
       "\n",
       "                 Night Calls  Night Charge  Intl Calls  Intl Charge  Area Code  \n",
       "Count of values       3333.0        3333.0      3333.0       3333.0     3333.0  "
      ]
     },
     "metadata": {},
     "output_type": "display_data"
    }
   ],
   "source": [
    "print(\"Number of rows: \", df.shape[0])\n",
    "counts = df.describe().iloc[0]\n",
    "display(\n",
    "    pd.DataFrame(\n",
    "        counts.tolist(), \n",
    "        columns=[\"Count of values\"], \n",
    "        index=counts.index.values\n",
    "    ).transpose()\n",
    ")"
   ]
  },
  {
   "cell_type": "code",
<<<<<<< HEAD
   "execution_count": 121,
=======
   "execution_count": 9,
>>>>>>> origin/master
   "metadata": {},
   "outputs": [
    {
     "data": {
      "text/plain": [
       "Account Length    False\n",
       "VMail Message     False\n",
       "Day Mins          False\n",
       "Eve Mins          False\n",
       "Night Mins        False\n",
       "Intl Mins         False\n",
       "CustServ Calls    False\n",
       "Churn             False\n",
       "Int'l Plan        False\n",
       "VMail Plan        False\n",
       "Day Calls         False\n",
       "Day Charge        False\n",
       "Eve Calls         False\n",
       "Eve Charge        False\n",
       "Night Calls       False\n",
       "Night Charge      False\n",
       "Intl Calls        False\n",
       "Intl Charge       False\n",
       "State             False\n",
       "Area Code         False\n",
       "Phone             False\n",
       "dtype: bool"
      ]
     },
<<<<<<< HEAD
     "execution_count": 121,
=======
     "execution_count": 9,
>>>>>>> origin/master
     "metadata": {},
     "output_type": "execute_result"
    }
   ],
   "source": [
    "df.isnull().any()"
   ]
  },
  {
   "cell_type": "code",
<<<<<<< HEAD
   "execution_count": 9,
=======
   "execution_count": 10,
>>>>>>> origin/master
   "metadata": {},
   "outputs": [],
   "source": [
    "# Drop the columns that we have decided won't be used in prediction\n",
    "df = df.drop([\"Phone\", \"Area Code\", \"State\"], axis=1)\n",
    "features = df.drop([\"Churn\"], axis=1).columns"
   ]
  },
  {
   "cell_type": "code",
<<<<<<< HEAD
   "execution_count": 10,
   "metadata": {},
   "outputs": [
    {
     "data": {
      "text/plain": [
       "0    2850\n",
       "1     483\n",
       "Name: Churn, dtype: int64"
      ]
     },
     "execution_count": 10,
     "metadata": {},
     "output_type": "execute_result"
    }
   ],
   "source": [
    "df[\"Churn\"].value_counts()"
   ]
  },
  {
   "cell_type": "code",
   "execution_count": 11,
   "metadata": {},
   "outputs": [
    {
     "data": {
      "text/plain": [
       "Churn\n",
       "0    2850\n",
       "1     483\n",
       "Name: Churn, dtype: int64"
      ]
     },
     "execution_count": 11,
     "metadata": {},
     "output_type": "execute_result"
    }
   ],
   "source": [
    "df.groupby(\"Churn\")[\"Churn\"].count()"
   ]
  },
  {
   "cell_type": "code",
   "execution_count": 12,
   "metadata": {},
   "outputs": [
    {
     "name": "stdout",
     "output_type": "stream",
     "text": [
      "Requirement already satisfied: imblearn in c:\\programdata\\anaconda3\\lib\\site-packages (0.0)\n",
      "Requirement already satisfied: imbalanced-learn in c:\\programdata\\anaconda3\\lib\\site-packages (from imblearn) (0.3.3)\n",
      "Requirement already satisfied: scikit-learn in c:\\programdata\\anaconda3\\lib\\site-packages (from imbalanced-learn->imblearn) (0.19.1)\n",
      "Requirement already satisfied: numpy in c:\\programdata\\anaconda3\\lib\\site-packages (from imbalanced-learn->imblearn) (1.14.3)\n",
      "Requirement already satisfied: scipy in c:\\programdata\\anaconda3\\lib\\site-packages (from imbalanced-learn->imblearn) (1.1.0)\n"
     ]
    }
   ],
   "source": [
    "!pip install imblearn"
   ]
  },
  {
   "cell_type": "code",
   "execution_count": 15,
   "metadata": {},
   "outputs": [],
   "source": [
    "from imblearn.combine import SMOTETomek "
   ]
  },
  {
   "cell_type": "code",
   "execution_count": 16,
   "metadata": {},
   "outputs": [],
   "source": [
    "x=df.drop('Churn', axis=1)\n",
    "y=df['Churn']"
   ]
  },
  {
   "cell_type": "code",
   "execution_count": 17,
   "metadata": {},
   "outputs": [],
   "source": [
    "columns_X=x.columns\n"
   ]
  },
  {
   "cell_type": "code",
   "execution_count": 18,
   "metadata": {},
   "outputs": [],
   "source": [
    "smt = SMOTETomek(ratio='auto')"
   ]
  },
  {
   "cell_type": "code",
   "execution_count": 19,
   "metadata": {},
   "outputs": [],
   "source": [
    "x_st, y_st =smt.fit_sample(x,y)\n"
   ]
  },
  {
   "cell_type": "code",
   "execution_count": 20,
   "metadata": {},
   "outputs": [],
   "source": [
    "\n",
    "x_st = pd.DataFrame(x_st,columns=columns_X)\n",
    "y_st = pd.DataFrame(y_st)\n",
    "y_st.columns=['Churn']"
   ]
  },
  {
   "cell_type": "code",
   "execution_count": 21,
   "metadata": {},
   "outputs": [],
   "source": [
    "df=pd.concat([x_st,y_st],axis=1)"
   ]
  },
  {
   "cell_type": "code",
   "execution_count": 22,
   "metadata": {},
   "outputs": [
    {
     "data": {
      "text/plain": [
       "Churn\n",
       "0    2828\n",
       "1    2828\n",
       "Name: Churn, dtype: int64"
      ]
     },
     "execution_count": 22,
     "metadata": {},
     "output_type": "execute_result"
    }
   ],
   "source": [
    "df.groupby('Churn')['Churn'].count()"
   ]
  },
  {
   "cell_type": "code",
   "execution_count": 23,
=======
   "execution_count": 31,
>>>>>>> origin/master
   "metadata": {},
   "outputs": [],
   "source": [
    "df_train, df_test = train_test_split(df, test_size=0.25)"
   ]
  },
  {
   "cell_type": "code",
<<<<<<< HEAD
   "execution_count": 24,
=======
   "execution_count": 32,
>>>>>>> origin/master
   "metadata": {},
   "outputs": [
    {
     "data": {
      "text/plain": [
<<<<<<< HEAD
       "array([0, 1, 1, ..., 1, 0, 0], dtype=int64)"
=======
       "array([0, 1, 0, 0, 0, 0, 0, 0, 0, 0, 0, 0, 0, 0, 0, 0, 0, 0, 0, 0, 0, 0,\n",
       "       0, 0, 0, 0, 0, 1, 0, 0, 0, 0, 0, 1, 0, 1, 0, 0, 1, 1, 0, 0, 0, 0,\n",
       "       0, 0, 0, 0, 0, 0, 0, 0, 0, 0, 0, 0, 0, 0, 0, 0, 0, 0, 0, 0, 1, 0,\n",
       "       0, 0, 0, 0, 0, 0, 0, 0, 0, 0, 0, 0, 0, 1, 0, 0, 1, 0, 0, 0, 0, 0,\n",
       "       0, 0, 0, 0, 0, 0, 1, 0, 0, 0, 0, 0, 0, 0, 0, 0, 0, 0, 0, 0, 0, 0,\n",
       "       0, 0, 0, 0, 1, 0, 0, 1, 0, 0, 1, 1, 0, 0, 0, 0, 0, 0, 0, 0, 0, 0,\n",
       "       0, 0, 0, 1, 0, 0, 0, 0, 0, 0, 0, 0, 0, 0, 0, 0, 0, 0, 0, 0, 0, 0,\n",
       "       0, 0, 0, 0, 0, 0, 0, 0, 1, 0, 0, 1, 0, 0, 0, 0, 0, 0, 0, 1, 0, 0,\n",
       "       0, 1, 0, 0, 0, 0, 0, 0, 1, 0, 0, 0, 0, 0, 0, 0, 0, 0, 0, 0, 0, 0,\n",
       "       0, 0, 0, 0, 0, 0, 1, 0, 0, 0, 0, 0, 0, 0, 0, 0, 0, 1, 0, 0, 0, 0,\n",
       "       0, 0, 0, 0, 0, 0, 1, 0, 0, 0, 0, 0, 0, 0, 0, 0, 0, 0, 0, 1, 0, 0,\n",
       "       0, 0, 0, 0, 0, 0, 0, 0, 0, 0, 0, 0, 0, 0, 0, 0, 0, 0, 1, 0, 0, 0,\n",
       "       0, 0, 0, 0, 0, 0, 0, 0, 0, 0, 0, 0, 0, 0, 0, 1, 0, 0, 1, 0, 0, 0,\n",
       "       0, 0, 0, 0, 0, 0, 0, 0, 0, 0, 0, 0, 0, 0, 0, 0, 0, 0, 0, 0, 0, 0,\n",
       "       0, 0, 0, 0, 0, 0, 0, 1, 0, 0, 0, 0, 0, 0, 0, 0, 0, 1, 1, 0, 0, 0,\n",
       "       0, 0, 1, 0, 0, 0, 0, 0, 0, 0, 0, 0, 1, 1, 0, 0, 0, 0, 0, 0, 0, 0,\n",
       "       0, 0, 1, 0, 0, 0, 0, 0, 0, 0, 0, 0, 0, 0, 0, 0, 0, 0, 0, 0, 0, 0,\n",
       "       0, 0, 0, 0, 0, 1, 0, 0, 0, 1, 1, 0, 0, 0, 0, 0, 1, 1, 1, 0, 0, 0,\n",
       "       0, 0, 0, 1, 0, 0, 1, 0, 0, 0, 0, 0, 0, 0, 0, 0, 0, 0, 0, 0, 0, 0,\n",
       "       0, 0, 0, 0, 0, 0, 1, 0, 0, 0, 1, 0, 0, 0, 0, 0, 1, 0, 0, 0, 0, 0,\n",
       "       0, 0, 0, 0, 0, 0, 0, 0, 0, 0, 0, 0, 0, 0, 1, 0, 1, 0, 0, 0, 0, 0,\n",
       "       0, 0, 0, 0, 0, 0, 1, 0, 0, 0, 1, 1, 0, 0, 0, 0, 0, 0, 0, 0, 0, 1,\n",
       "       0, 0, 0, 0, 0, 0, 0, 0, 0, 0, 0, 1, 1, 0, 0, 1, 1, 0, 0, 1, 0, 0,\n",
       "       0, 0, 0, 0, 0, 0, 0, 0, 0, 0, 0, 0, 0, 0, 0, 0, 0, 0, 1, 0, 0, 1,\n",
       "       1, 0, 0, 0, 1, 0, 0, 0, 0, 0, 0, 1, 0, 0, 1, 0, 0, 0, 0, 0, 0, 0,\n",
       "       1, 0, 1, 0, 0, 0, 0, 1, 0, 0, 0, 0, 1, 0, 0, 0, 0, 0, 0, 0, 0, 0,\n",
       "       0, 0, 0, 0, 0, 0, 1, 0, 0, 0, 0, 0, 0, 0, 0, 0, 0, 0, 0, 0, 0, 0,\n",
       "       0, 0, 0, 0, 0, 0, 0, 0, 0, 0, 0, 1, 1, 0, 0, 0, 0, 0, 0, 0, 0, 0,\n",
       "       0, 0, 0, 0, 0, 0, 0, 0, 1, 1, 1, 1, 0, 0, 0, 0, 0, 0, 0, 0, 1, 0,\n",
       "       0, 0, 0, 0, 0, 0, 0, 1, 0, 0, 0, 0, 0, 0, 0, 0, 0, 0, 0, 0, 0, 1,\n",
       "       0, 0, 0, 0, 0, 0, 0, 0, 0, 0, 0, 0, 0, 0, 0, 1, 0, 0, 0, 0, 0, 0,\n",
       "       0, 0, 1, 0, 0, 0, 0, 1, 0, 0, 0, 0, 0, 1, 0, 1, 0, 0, 0, 0, 0, 0,\n",
       "       0, 0, 0, 1, 0, 0, 1, 0, 0, 0, 0, 0, 1, 0, 0, 0, 0, 0, 1, 0, 1, 0,\n",
       "       0, 0, 1, 0, 0, 0, 0, 0, 0, 0, 0, 0, 0, 0, 0, 0, 0, 0, 0, 0, 0, 0,\n",
       "       0, 0, 0, 1, 0, 0, 0, 1, 0, 1, 0, 0, 0, 0, 0, 0, 0, 0, 0, 0, 0, 0,\n",
       "       1, 1, 0, 0, 0, 0, 0, 0, 0, 0, 0, 0, 0, 0, 1, 0, 0, 0, 0, 0, 0, 0,\n",
       "       0, 0, 0, 0, 0, 0, 0, 0, 0, 1, 0, 0, 0, 0, 1, 0, 0, 0, 0, 0, 0, 1,\n",
       "       1, 0, 0, 0, 0, 0, 0, 0, 0, 0, 0, 0, 0, 0, 0, 0, 0, 0, 0, 0],\n",
       "      dtype=int64)"
>>>>>>> origin/master
      ]
     },
     "metadata": {},
     "output_type": "display_data"
    }
   ],
   "source": [
    "# Set up our RandomForestClassifier instance and fit to data\n",
    "clf = RandomForestClassifier(n_estimators=30)\n",
    "clf.fit(df_train[features], df_train[\"Churn\"])\n",
    "\n",
    "# Make predictions\n",
    "predictions = clf.predict(df_test[features])\n",
    "probs = clf.predict_proba(df_test[features])\n",
    "display(predictions)"
   ]
  },
  {
   "cell_type": "code",
<<<<<<< HEAD
   "execution_count": 25,
   "metadata": {},
   "outputs": [
    {
     "name": "stdout",
     "output_type": "stream",
     "text": [
      "Accuracy:  0.9632248939179632\n"
     ]
    }
   ],
   "source": [
    "score = clf.score(df_test[features], df_test[\"Churn\"])\n",
    "print(\"Accuracy: \", score)"
   ]
  },
  {
   "cell_type": "code",
   "execution_count": 26,
=======
   "execution_count": null,
   "metadata": {},
   "outputs": [],
   "source": []
  },
  {
   "cell_type": "code",
   "execution_count": 33,
>>>>>>> origin/master
   "metadata": {},
   "outputs": [
    {
     "name": "stdout",
     "output_type": "stream",
     "text": [
<<<<<<< HEAD
      "Accuracy:  1.0\n"
=======
      "Accuracy:  0.947242206235012\n"
>>>>>>> origin/master
     ]
    }
   ],
   "source": [
<<<<<<< HEAD
    "score = clf.score(df_train[features], df_train[\"Churn\"])\n",
=======
    "score = clf.score(df_test[features], df_test[\"Churn\"])\n",
>>>>>>> origin/master
    "print(\"Accuracy: \", score)"
   ]
  },
  {
   "cell_type": "code",
<<<<<<< HEAD
   "execution_count": 27,
=======
   "execution_count": 34,
>>>>>>> origin/master
   "metadata": {},
   "outputs": [
    {
     "data": {
      "text/html": [
       "<div>\n",
       "<style scoped>\n",
       "    .dataframe tbody tr th:only-of-type {\n",
       "        vertical-align: middle;\n",
       "    }\n",
       "\n",
       "    .dataframe tbody tr th {\n",
       "        vertical-align: top;\n",
       "    }\n",
       "\n",
       "    .dataframe thead th {\n",
       "        text-align: right;\n",
       "    }\n",
       "</style>\n",
       "<table border=\"1\" class=\"dataframe\">\n",
       "  <thead>\n",
       "    <tr style=\"text-align: right;\">\n",
       "      <th></th>\n",
       "      <th>Predicted False</th>\n",
       "      <th>Predicted True</th>\n",
       "    </tr>\n",
       "  </thead>\n",
       "  <tbody>\n",
       "    <tr>\n",
       "      <th>Actual False</th>\n",
<<<<<<< HEAD
       "      <td>672</td>\n",
       "      <td>22</td>\n",
       "    </tr>\n",
       "    <tr>\n",
       "      <th>Actual True</th>\n",
       "      <td>30</td>\n",
       "      <td>690</td>\n",
=======
       "      <td>702</td>\n",
       "      <td>9</td>\n",
       "    </tr>\n",
       "    <tr>\n",
       "      <th>Actual True</th>\n",
       "      <td>35</td>\n",
       "      <td>88</td>\n",
>>>>>>> origin/master
       "    </tr>\n",
       "  </tbody>\n",
       "</table>\n",
       "</div>"
      ],
      "text/plain": [
       "              Predicted False  Predicted True\n",
<<<<<<< HEAD
       "Actual False              672              22\n",
       "Actual True                30             690"
=======
       "Actual False              702               9\n",
       "Actual True                35              88"
>>>>>>> origin/master
      ]
     },
     "metadata": {},
     "output_type": "display_data"
    },
    {
     "data": {
<<<<<<< HEAD
      "image/png": "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\n",
=======
      "image/png": "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\n",
>>>>>>> origin/master
      "text/plain": [
       "<Figure size 432x288 with 1 Axes>"
      ]
     },
     "metadata": {},
     "output_type": "display_data"
    }
   ],
   "source": [
<<<<<<< HEAD
    "\n",
=======
>>>>>>> origin/master
    "get_ipython().magic('matplotlib inline')\n",
    "confusion_matrix = pd.DataFrame(\n",
    "    confusion_matrix(df_test[\"Churn\"], predictions), \n",
    "    columns=[\"Predicted False\", \"Predicted True\"], \n",
    "    index=[\"Actual False\", \"Actual True\"]\n",
    ")\n",
    "display(confusion_matrix)\n",
    "\n",
    "# Calculate the fpr and tpr for all thresholds of the classification\n",
    "fpr, tpr, threshold = roc_curve(df_test[\"Churn\"], probs[:,1])\n",
    "plt.title('Receiver Operating Characteristic')\n",
    "plt.plot(fpr, tpr, 'b')\n",
    "plt.plot([0, 1], [0, 1],'r--')\n",
    "plt.xlim([0, 1])\n",
    "plt.ylim([0, 1])\n",
    "plt.ylabel('True Positive Rate')\n",
    "plt.xlabel('False Positive Rate')\n",
    "plt.show()"
   ]
  },
  {
   "cell_type": "code",
<<<<<<< HEAD
   "execution_count": 28,
=======
   "execution_count": 35,
>>>>>>> origin/master
   "metadata": {},
   "outputs": [
    {
     "data": {
      "text/html": [
       "<div>\n",
       "<style scoped>\n",
       "    .dataframe tbody tr th:only-of-type {\n",
       "        vertical-align: middle;\n",
       "    }\n",
       "\n",
       "    .dataframe tbody tr th {\n",
       "        vertical-align: top;\n",
       "    }\n",
       "\n",
       "    .dataframe thead th {\n",
       "        text-align: right;\n",
       "    }\n",
       "</style>\n",
       "<table border=\"1\" class=\"dataframe\">\n",
       "  <thead>\n",
       "    <tr style=\"text-align: right;\">\n",
       "      <th></th>\n",
       "      <th>importance</th>\n",
       "      <th>labels</th>\n",
       "    </tr>\n",
       "  </thead>\n",
       "  <tbody>\n",
       "    <tr>\n",
<<<<<<< HEAD
       "      <th>7</th>\n",
       "      <td>0.166212</td>\n",
       "      <td>Int'l Plan</td>\n",
       "    </tr>\n",
       "    <tr>\n",
       "      <th>6</th>\n",
       "      <td>0.164429</td>\n",
       "      <td>CustServ Calls</td>\n",
       "    </tr>\n",
       "    <tr>\n",
       "      <th>2</th>\n",
       "      <td>0.119117</td>\n",
       "      <td>Day Mins</td>\n",
       "    </tr>\n",
       "    <tr>\n",
       "      <th>10</th>\n",
       "      <td>0.114700</td>\n",
       "      <td>Day Charge</td>\n",
       "    </tr>\n",
       "    <tr>\n",
       "      <th>15</th>\n",
       "      <td>0.063854</td>\n",
       "      <td>Intl Calls</td>\n",
=======
       "      <th>10</th>\n",
       "      <td>0.132548</td>\n",
       "      <td>Day Charge</td>\n",
       "    </tr>\n",
       "    <tr>\n",
       "      <th>2</th>\n",
       "      <td>0.131381</td>\n",
       "      <td>Day Mins</td>\n",
       "    </tr>\n",
       "    <tr>\n",
       "      <th>6</th>\n",
       "      <td>0.123441</td>\n",
       "      <td>CustServ Calls</td>\n",
       "    </tr>\n",
       "    <tr>\n",
       "      <th>7</th>\n",
       "      <td>0.080540</td>\n",
       "      <td>Int'l Plan</td>\n",
       "    </tr>\n",
       "    <tr>\n",
       "      <th>3</th>\n",
       "      <td>0.076350</td>\n",
       "      <td>Eve Mins</td>\n",
>>>>>>> origin/master
       "    </tr>\n",
       "  </tbody>\n",
       "</table>\n",
       "</div>"
      ],
      "text/plain": [
       "    importance          labels\n",
<<<<<<< HEAD
       "7     0.166212      Int'l Plan\n",
       "6     0.164429  CustServ Calls\n",
       "2     0.119117        Day Mins\n",
       "10    0.114700      Day Charge\n",
       "15    0.063854      Intl Calls"
=======
       "10    0.132548      Day Charge\n",
       "2     0.131381        Day Mins\n",
       "6     0.123441  CustServ Calls\n",
       "7     0.080540      Int'l Plan\n",
       "3     0.076350        Eve Mins"
>>>>>>> origin/master
      ]
     },
     "metadata": {},
     "output_type": "display_data"
    },
    {
     "data": {
<<<<<<< HEAD
      "image/png": "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\n",
=======
      "image/png": "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\n",
>>>>>>> origin/master
      "text/plain": [
       "<Figure size 1440x1296 with 1 Axes>"
      ]
     },
     "metadata": {},
     "output_type": "display_data"
    }
   ],
   "source": [
    "fig = plt.figure(figsize=(20, 18))\n",
    "ax = fig.add_subplot(111)\n",
    "\n",
    "df_f = pd.DataFrame(clf.feature_importances_, columns=[\"importance\"])\n",
    "df_f[\"labels\"] = features\n",
    "df_f.sort_values(\"importance\", inplace=True, ascending=False)\n",
    "display(df_f.head(5))\n",
    "\n",
    "index = np.arange(len(clf.feature_importances_))\n",
    "bar_width = 0.5\n",
    "rects = plt.barh(index , df_f[\"importance\"], bar_width, alpha=0.4, color='b', label='Main')\n",
    "plt.yticks(index, df_f[\"labels\"])\n",
    "plt.show()"
   ]
  },
  {
   "cell_type": "code",
<<<<<<< HEAD
   "execution_count": 29,
=======
   "execution_count": 36,
>>>>>>> origin/master
   "metadata": {},
   "outputs": [
    {
     "name": "stderr",
     "output_type": "stream",
     "text": [
      "C:\\ProgramData\\Anaconda3\\lib\\site-packages\\ipykernel_launcher.py:1: SettingWithCopyWarning: \n",
      "A value is trying to be set on a copy of a slice from a DataFrame.\n",
      "Try using .loc[row_indexer,col_indexer] = value instead\n",
      "\n",
      "See the caveats in the documentation: http://pandas.pydata.org/pandas-docs/stable/indexing.html#indexing-view-versus-copy\n",
      "  \"\"\"Entry point for launching an IPython kernel.\n"
     ]
    },
    {
     "data": {
      "text/html": [
       "<div>\n",
       "<style scoped>\n",
       "    .dataframe tbody tr th:only-of-type {\n",
       "        vertical-align: middle;\n",
       "    }\n",
       "\n",
       "    .dataframe tbody tr th {\n",
       "        vertical-align: top;\n",
       "    }\n",
       "\n",
       "    .dataframe thead th {\n",
       "        text-align: right;\n",
       "    }\n",
       "</style>\n",
       "<table border=\"1\" class=\"dataframe\">\n",
       "  <thead>\n",
       "    <tr style=\"text-align: right;\">\n",
       "      <th></th>\n",
       "      <th>prob_true</th>\n",
       "    </tr>\n",
       "  </thead>\n",
       "  <tbody>\n",
       "    <tr>\n",
<<<<<<< HEAD
       "      <th>3407</th>\n",
       "      <td>1.000000</td>\n",
       "    </tr>\n",
       "    <tr>\n",
       "      <th>4507</th>\n",
       "      <td>0.966667</td>\n",
       "    </tr>\n",
       "    <tr>\n",
       "      <th>4594</th>\n",
       "      <td>0.933333</td>\n",
       "    </tr>\n",
       "    <tr>\n",
       "      <th>4046</th>\n",
       "      <td>1.000000</td>\n",
       "    </tr>\n",
       "    <tr>\n",
       "      <th>1686</th>\n",
       "      <td>0.966667</td>\n",
=======
       "      <th>2647</th>\n",
       "      <td>0.933333</td>\n",
       "    </tr>\n",
       "    <tr>\n",
       "      <th>830</th>\n",
       "      <td>0.933333</td>\n",
       "    </tr>\n",
       "    <tr>\n",
       "      <th>3291</th>\n",
       "      <td>0.933333</td>\n",
       "    </tr>\n",
       "    <tr>\n",
       "      <th>1768</th>\n",
       "      <td>1.000000</td>\n",
       "    </tr>\n",
       "    <tr>\n",
       "      <th>2115</th>\n",
       "      <td>1.000000</td>\n",
>>>>>>> origin/master
       "    </tr>\n",
       "  </tbody>\n",
       "</table>\n",
       "</div>"
      ],
      "text/plain": [
       "      prob_true\n",
<<<<<<< HEAD
       "3407   1.000000\n",
       "4507   0.966667\n",
       "4594   0.933333\n",
       "4046   1.000000\n",
       "1686   0.966667"
=======
       "2647   0.933333\n",
       "830    0.933333\n",
       "3291   0.933333\n",
       "1768   1.000000\n",
       "2115   1.000000"
>>>>>>> origin/master
      ]
     },
     "metadata": {},
     "output_type": "display_data"
    }
   ],
   "source": [
    "df_test[\"prob_true\"] = probs[:, 1]\n",
    "df_risky = df_test[df_test[\"prob_true\"] > 0.9]\n",
<<<<<<< HEAD
    "display(df_risky.head(5)[[\"prob_true\"]]);"
=======
    "display(df_risky.head(5)[[\"prob_true\"]])"
>>>>>>> origin/master
   ]
  },
  {
   "cell_type": "code",
<<<<<<< HEAD
   "execution_count": 177,
=======
   "execution_count": 37,
>>>>>>> origin/master
   "metadata": {},
   "outputs": [
    {
     "data": {
      "text/html": [
       "<div>\n",
       "<style scoped>\n",
       "    .dataframe tbody tr th:only-of-type {\n",
       "        vertical-align: middle;\n",
       "    }\n",
       "\n",
       "    .dataframe tbody tr th {\n",
       "        vertical-align: top;\n",
       "    }\n",
       "\n",
       "    .dataframe thead th {\n",
       "        text-align: right;\n",
       "    }\n",
       "</style>\n",
       "<table border=\"1\" class=\"dataframe\">\n",
       "  <thead>\n",
       "    <tr style=\"text-align: right;\">\n",
       "      <th></th>\n",
       "      <th>labels</th>\n",
       "      <th>importance</th>\n",
       "    </tr>\n",
       "  </thead>\n",
       "  <tbody>\n",
       "    <tr>\n",
<<<<<<< HEAD
       "      <th>7</th>\n",
       "      <td>Int'l Plan</td>\n",
       "      <td>17.10%</td>\n",
       "    </tr>\n",
       "    <tr>\n",
       "      <th>6</th>\n",
       "      <td>CustServ Calls</td>\n",
       "      <td>15.40%</td>\n",
=======
       "      <th>10</th>\n",
       "      <td>Day Charge</td>\n",
       "      <td>13.25%</td>\n",
>>>>>>> origin/master
       "    </tr>\n",
       "    <tr>\n",
       "      <th>2</th>\n",
       "      <td>Day Mins</td>\n",
<<<<<<< HEAD
       "      <td>13.11%</td>\n",
       "    </tr>\n",
       "    <tr>\n",
       "      <th>10</th>\n",
       "      <td>Day Charge</td>\n",
       "      <td>10.78%</td>\n",
       "    </tr>\n",
       "    <tr>\n",
       "      <th>15</th>\n",
       "      <td>Intl Calls</td>\n",
       "      <td>6.08%</td>\n",
=======
       "      <td>13.14%</td>\n",
       "    </tr>\n",
       "    <tr>\n",
       "      <th>6</th>\n",
       "      <td>CustServ Calls</td>\n",
       "      <td>12.34%</td>\n",
       "    </tr>\n",
       "    <tr>\n",
       "      <th>7</th>\n",
       "      <td>Int'l Plan</td>\n",
       "      <td>8.05%</td>\n",
>>>>>>> origin/master
       "    </tr>\n",
       "    <tr>\n",
       "      <th>3</th>\n",
       "      <td>Eve Mins</td>\n",
<<<<<<< HEAD
       "      <td>5.34%</td>\n",
=======
       "      <td>7.63%</td>\n",
>>>>>>> origin/master
       "    </tr>\n",
       "    <tr>\n",
       "      <th>12</th>\n",
       "      <td>Eve Charge</td>\n",
<<<<<<< HEAD
       "      <td>4.74%</td>\n",
       "    </tr>\n",
       "    <tr>\n",
       "      <th>8</th>\n",
       "      <td>VMail Plan</td>\n",
       "      <td>3.50%</td>\n",
       "    </tr>\n",
       "    <tr>\n",
       "      <th>4</th>\n",
       "      <td>Night Mins</td>\n",
       "      <td>3.27%</td>\n",
       "    </tr>\n",
       "    <tr>\n",
       "      <th>1</th>\n",
       "      <td>VMail Message</td>\n",
       "      <td>3.11%</td>\n",
=======
       "      <td>6.66%</td>\n",
       "    </tr>\n",
       "    <tr>\n",
       "      <th>15</th>\n",
       "      <td>Intl Calls</td>\n",
       "      <td>5.62%</td>\n",
>>>>>>> origin/master
       "    </tr>\n",
       "    <tr>\n",
       "      <th>16</th>\n",
       "      <td>Intl Charge</td>\n",
<<<<<<< HEAD
       "      <td>2.90%</td>\n",
=======
       "      <td>5.05%</td>\n",
>>>>>>> origin/master
       "    </tr>\n",
       "    <tr>\n",
       "      <th>5</th>\n",
       "      <td>Intl Mins</td>\n",
<<<<<<< HEAD
       "      <td>2.87%</td>\n",
=======
       "      <td>3.87%</td>\n",
       "    </tr>\n",
       "    <tr>\n",
       "      <th>4</th>\n",
       "      <td>Night Mins</td>\n",
       "      <td>3.72%</td>\n",
>>>>>>> origin/master
       "    </tr>\n",
       "    <tr>\n",
       "      <th>14</th>\n",
       "      <td>Night Charge</td>\n",
<<<<<<< HEAD
       "      <td>2.85%</td>\n",
=======
       "      <td>3.54%</td>\n",
>>>>>>> origin/master
       "    </tr>\n",
       "    <tr>\n",
       "      <th>9</th>\n",
       "      <td>Day Calls</td>\n",
<<<<<<< HEAD
       "      <td>2.51%</td>\n",
=======
       "      <td>3.34%</td>\n",
>>>>>>> origin/master
       "    </tr>\n",
       "    <tr>\n",
       "      <th>0</th>\n",
       "      <td>Account Length</td>\n",
<<<<<<< HEAD
       "      <td>2.35%</td>\n",
=======
       "      <td>3.22%</td>\n",
>>>>>>> origin/master
       "    </tr>\n",
       "    <tr>\n",
       "      <th>11</th>\n",
       "      <td>Eve Calls</td>\n",
<<<<<<< HEAD
       "      <td>2.10%</td>\n",
=======
       "      <td>3.01%</td>\n",
>>>>>>> origin/master
       "    </tr>\n",
       "    <tr>\n",
       "      <th>13</th>\n",
       "      <td>Night Calls</td>\n",
<<<<<<< HEAD
       "      <td>2.00%</td>\n",
=======
       "      <td>2.79%</td>\n",
       "    </tr>\n",
       "    <tr>\n",
       "      <th>1</th>\n",
       "      <td>VMail Message</td>\n",
       "      <td>2.48%</td>\n",
       "    </tr>\n",
       "    <tr>\n",
       "      <th>8</th>\n",
       "      <td>VMail Plan</td>\n",
       "      <td>2.28%</td>\n",
>>>>>>> origin/master
       "    </tr>\n",
       "  </tbody>\n",
       "</table>\n",
       "</div>"
      ],
      "text/plain": [
       "            labels importance\n",
<<<<<<< HEAD
       "7       Int'l Plan     17.10%\n",
       "6   CustServ Calls     15.40%\n",
       "2         Day Mins     13.11%\n",
       "10      Day Charge     10.78%\n",
       "15      Intl Calls      6.08%\n",
       "3         Eve Mins      5.34%\n",
       "12      Eve Charge      4.74%\n",
       "8       VMail Plan      3.50%\n",
       "4       Night Mins      3.27%\n",
       "1    VMail Message      3.11%\n",
       "16     Intl Charge      2.90%\n",
       "5        Intl Mins      2.87%\n",
       "14    Night Charge      2.85%\n",
       "9        Day Calls      2.51%\n",
       "0   Account Length      2.35%\n",
       "11       Eve Calls      2.10%\n",
       "13     Night Calls      2.00%"
      ]
     },
     "execution_count": 177,
=======
       "10      Day Charge     13.25%\n",
       "2         Day Mins     13.14%\n",
       "6   CustServ Calls     12.34%\n",
       "7       Int'l Plan      8.05%\n",
       "3         Eve Mins      7.63%\n",
       "12      Eve Charge      6.66%\n",
       "15      Intl Calls      5.62%\n",
       "16     Intl Charge      5.05%\n",
       "5        Intl Mins      3.87%\n",
       "4       Night Mins      3.72%\n",
       "14    Night Charge      3.54%\n",
       "9        Day Calls      3.34%\n",
       "0   Account Length      3.22%\n",
       "11       Eve Calls      3.01%\n",
       "13     Night Calls      2.79%\n",
       "1    VMail Message      2.48%\n",
       "8       VMail Plan      2.28%"
      ]
     },
     "execution_count": 37,
>>>>>>> origin/master
     "metadata": {},
     "output_type": "execute_result"
    }
   ],
   "source": [
    "df_f[\"importance\"]=df_f[\"importance\"]*100\n",
    "df_f[\"importance\"]=df_f[\"importance\"].map('{:,.2f}%'.format)\n",
    "pd.concat([df_f[\"labels\"], df_f[\"importance\"]], axis=1)\n",
    "\n"
   ]
  },
  {
   "cell_type": "code",
<<<<<<< HEAD
   "execution_count": 158,
=======
   "execution_count": 38,
>>>>>>> origin/master
   "metadata": {},
   "outputs": [
    {
     "data": {
      "text/plain": [
       "['modelo_entrenado.pkl']"
      ]
     },
<<<<<<< HEAD
     "execution_count": 158,
=======
     "execution_count": 38,
>>>>>>> origin/master
     "metadata": {},
     "output_type": "execute_result"
    }
   ],
   "source": [
    "from sklearn.externals import joblib\n",
    "joblib.dump(clf,'modelo_entrenado.pkl')"
   ]
  },
  {
   "cell_type": "code",
<<<<<<< HEAD
   "execution_count": 159,
=======
   "execution_count": 39,
>>>>>>> origin/master
   "metadata": {},
   "outputs": [],
   "source": [
    "clf=joblib.load('modelo_entrenado.pkl')"
   ]
  },
  {
   "cell_type": "code",
<<<<<<< HEAD
   "execution_count": 86,
   "metadata": {},
   "outputs": [
    {
     "name": "stdout",
     "output_type": "stream",
     "text": [
      "Intenta un número: 2\n",
      "El número es más grande\n",
      "Intenta un número: 4\n",
      "El número es más grande\n",
      "Intenta un número: 12\n",
      "El número es más pequeño\n",
      "Intenta un número: 6\n",
      "El número es más grande\n",
      "Intenta un número: 8\n",
      "El número es más grande\n",
      "Intenta un número: 10\n",
      "El número es más grande\n",
      "Intenta un número: 12\n",
      "El número es más pequeño\n",
      "Intenta un número: 11\n",
      "Felicidades, encontraste el número\n"
     ]
    }
   ],
   "source": [
    "import random\n",
    "\n",
    "def run():\n",
    "    number_found = False\n",
    "    random_number = random.randint(0,20)\n",
    "\n",
    "    while not number_found:\n",
    "        number = int(input('Intenta un número: '))\n",
    "\n",
    "        if number == random_number:\n",
    "            print('Felicidades, encontraste el número')\n",
    "            number_found=True\n",
    "        elif number>random_number:\n",
    "            print('El número es más pequeño')\n",
    "        else:\n",
    "            print('El número es más grande')\n",
    "\n",
    "\n",
    "if __name__=='__main__':\n",
    "    run()\n"
   ]
=======
   "execution_count": null,
   "metadata": {},
   "outputs": [],
   "source": []
>>>>>>> origin/master
  },
  {
   "cell_type": "code",
   "execution_count": null,
   "metadata": {},
   "outputs": [],
   "source": []
  }
 ],
 "metadata": {
  "kernelspec": {
   "display_name": "Python 3",
   "language": "python",
   "name": "python3"
  },
  "language_info": {
   "codemirror_mode": {
    "name": "ipython",
    "version": 3
   },
   "file_extension": ".py",
   "mimetype": "text/x-python",
   "name": "python",
   "nbconvert_exporter": "python",
   "pygments_lexer": "ipython3",
<<<<<<< HEAD
   "version": "3.6.5"
  },
  "toc": {
   "base_numbering": 1,
   "nav_menu": {},
   "number_sections": true,
   "sideBar": true,
   "skip_h1_title": false,
   "title_cell": "Table of Contents",
   "title_sidebar": "Contents",
   "toc_cell": false,
   "toc_position": {},
   "toc_section_display": true,
   "toc_window_display": false
=======
   "version": "3.5.5"
>>>>>>> origin/master
  }
 },
 "nbformat": 4,
 "nbformat_minor": 2
}
