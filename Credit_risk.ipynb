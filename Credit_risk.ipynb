{
 "cells": [
  {
   "cell_type": "code",
   "execution_count": 219,
   "metadata": {},
   "outputs": [],
   "source": [
    "%matplotlib inline\n",
    "from pandas import Series, DataFrame\n",
    "import pandas as pd\n",
    "import numpy as np\n",
    "import os\n",
    "import matplotlib.pylab as plt\n",
    "from IPython.display import display, HTML\n",
    "from sklearn.cross_validation import train_test_split\n",
    "from sklearn.tree import DecisionTreeClassifier\n",
    "from sklearn.metrics import classification_report\n",
    "import sklearn.metrics\n",
    " # Feature Importance\n",
    "from sklearn import datasets\n",
    "from sklearn.ensemble import ExtraTreesClassifier\n",
    "from sklearn.preprocessing import LabelEncoder\n",
    "from sklearn.naive_bayes import GaussianNB\n",
    "\n",
    "os.chdir('F:\\Carpeta Drive\\Python\\Base')\n",
    "#https://www.kaggle.com/gangliu/german-credit\n",
    "df=pd.read_csv('german.csv', encoding = \"ISO-8859-1\")\n",
    "colnames=['chkngAcctStatus', 'durationMonths', 'creditHistory', 'loanPurpose', 'creditAmount', 'savingsTotal', 'crrntEmplmtSince', 'instllmtPct', 'persnlStatus', 'othrDebtorGuaranters', 'crrntResidenceSince', 'propertyType', 'age', 'otherInstllmtType', 'housingType', 'existingCredits','jobStatus', 'numDependents', 'registeredPhone', 'foriegnWorker', 'goodBad']"
   ]
  },
  {
   "cell_type": "code",
   "execution_count": 220,
   "metadata": {},
   "outputs": [],
   "source": [
    "df.columns=colnames"
   ]
  },
  {
   "cell_type": "code",
   "execution_count": 221,
   "metadata": {},
   "outputs": [
    {
     "data": {
      "text/plain": [
       "(1000, 21)"
      ]
     },
     "execution_count": 221,
     "metadata": {},
     "output_type": "execute_result"
    }
   ],
   "source": [
    "df.shape"
   ]
  },
  {
   "cell_type": "code",
   "execution_count": 222,
   "metadata": {},
   "outputs": [
    {
     "data": {
      "text/html": [
       "<div>\n",
       "<style scoped>\n",
       "    .dataframe tbody tr th:only-of-type {\n",
       "        vertical-align: middle;\n",
       "    }\n",
       "\n",
       "    .dataframe tbody tr th {\n",
       "        vertical-align: top;\n",
       "    }\n",
       "\n",
       "    .dataframe thead th {\n",
       "        text-align: right;\n",
       "    }\n",
       "</style>\n",
       "<table border=\"1\" class=\"dataframe\">\n",
       "  <thead>\n",
       "    <tr style=\"text-align: right;\">\n",
       "      <th></th>\n",
       "      <th>chkngAcctStatus</th>\n",
       "      <th>durationMonths</th>\n",
       "      <th>creditHistory</th>\n",
       "      <th>loanPurpose</th>\n",
       "      <th>creditAmount</th>\n",
       "      <th>savingsTotal</th>\n",
       "      <th>crrntEmplmtSince</th>\n",
       "      <th>instllmtPct</th>\n",
       "      <th>persnlStatus</th>\n",
       "      <th>othrDebtorGuaranters</th>\n",
       "      <th>...</th>\n",
       "      <th>propertyType</th>\n",
       "      <th>age</th>\n",
       "      <th>otherInstllmtType</th>\n",
       "      <th>housingType</th>\n",
       "      <th>existingCredits</th>\n",
       "      <th>jobStatus</th>\n",
       "      <th>numDependents</th>\n",
       "      <th>registeredPhone</th>\n",
       "      <th>foriegnWorker</th>\n",
       "      <th>goodBad</th>\n",
       "    </tr>\n",
       "  </thead>\n",
       "  <tbody>\n",
       "    <tr>\n",
       "      <th>0</th>\n",
       "      <td>A11</td>\n",
       "      <td>6</td>\n",
       "      <td>A34</td>\n",
       "      <td>A43</td>\n",
       "      <td>1169</td>\n",
       "      <td>A65</td>\n",
       "      <td>A75</td>\n",
       "      <td>4</td>\n",
       "      <td>A93</td>\n",
       "      <td>A101</td>\n",
       "      <td>...</td>\n",
       "      <td>A121</td>\n",
       "      <td>67</td>\n",
       "      <td>A143</td>\n",
       "      <td>A152</td>\n",
       "      <td>2</td>\n",
       "      <td>A173</td>\n",
       "      <td>1</td>\n",
       "      <td>A192</td>\n",
       "      <td>A201</td>\n",
       "      <td>0</td>\n",
       "    </tr>\n",
       "    <tr>\n",
       "      <th>1</th>\n",
       "      <td>A12</td>\n",
       "      <td>48</td>\n",
       "      <td>A32</td>\n",
       "      <td>A43</td>\n",
       "      <td>5951</td>\n",
       "      <td>A61</td>\n",
       "      <td>A73</td>\n",
       "      <td>2</td>\n",
       "      <td>A92</td>\n",
       "      <td>A101</td>\n",
       "      <td>...</td>\n",
       "      <td>A121</td>\n",
       "      <td>22</td>\n",
       "      <td>A143</td>\n",
       "      <td>A152</td>\n",
       "      <td>1</td>\n",
       "      <td>A173</td>\n",
       "      <td>1</td>\n",
       "      <td>A191</td>\n",
       "      <td>A201</td>\n",
       "      <td>1</td>\n",
       "    </tr>\n",
       "    <tr>\n",
       "      <th>2</th>\n",
       "      <td>A14</td>\n",
       "      <td>12</td>\n",
       "      <td>A34</td>\n",
       "      <td>A46</td>\n",
       "      <td>2096</td>\n",
       "      <td>A61</td>\n",
       "      <td>A74</td>\n",
       "      <td>2</td>\n",
       "      <td>A93</td>\n",
       "      <td>A101</td>\n",
       "      <td>...</td>\n",
       "      <td>A121</td>\n",
       "      <td>49</td>\n",
       "      <td>A143</td>\n",
       "      <td>A152</td>\n",
       "      <td>1</td>\n",
       "      <td>A172</td>\n",
       "      <td>2</td>\n",
       "      <td>A191</td>\n",
       "      <td>A201</td>\n",
       "      <td>0</td>\n",
       "    </tr>\n",
       "    <tr>\n",
       "      <th>3</th>\n",
       "      <td>A11</td>\n",
       "      <td>42</td>\n",
       "      <td>A32</td>\n",
       "      <td>A42</td>\n",
       "      <td>7882</td>\n",
       "      <td>A61</td>\n",
       "      <td>A74</td>\n",
       "      <td>2</td>\n",
       "      <td>A93</td>\n",
       "      <td>A103</td>\n",
       "      <td>...</td>\n",
       "      <td>A122</td>\n",
       "      <td>45</td>\n",
       "      <td>A143</td>\n",
       "      <td>A153</td>\n",
       "      <td>1</td>\n",
       "      <td>A173</td>\n",
       "      <td>2</td>\n",
       "      <td>A191</td>\n",
       "      <td>A201</td>\n",
       "      <td>0</td>\n",
       "    </tr>\n",
       "    <tr>\n",
       "      <th>4</th>\n",
       "      <td>A11</td>\n",
       "      <td>24</td>\n",
       "      <td>A33</td>\n",
       "      <td>A40</td>\n",
       "      <td>4870</td>\n",
       "      <td>A61</td>\n",
       "      <td>A73</td>\n",
       "      <td>3</td>\n",
       "      <td>A93</td>\n",
       "      <td>A101</td>\n",
       "      <td>...</td>\n",
       "      <td>A124</td>\n",
       "      <td>53</td>\n",
       "      <td>A143</td>\n",
       "      <td>A153</td>\n",
       "      <td>2</td>\n",
       "      <td>A173</td>\n",
       "      <td>2</td>\n",
       "      <td>A191</td>\n",
       "      <td>A201</td>\n",
       "      <td>1</td>\n",
       "    </tr>\n",
       "    <tr>\n",
       "      <th>5</th>\n",
       "      <td>A14</td>\n",
       "      <td>36</td>\n",
       "      <td>A32</td>\n",
       "      <td>A46</td>\n",
       "      <td>9055</td>\n",
       "      <td>A65</td>\n",
       "      <td>A73</td>\n",
       "      <td>2</td>\n",
       "      <td>A93</td>\n",
       "      <td>A101</td>\n",
       "      <td>...</td>\n",
       "      <td>A124</td>\n",
       "      <td>35</td>\n",
       "      <td>A143</td>\n",
       "      <td>A153</td>\n",
       "      <td>1</td>\n",
       "      <td>A172</td>\n",
       "      <td>2</td>\n",
       "      <td>A192</td>\n",
       "      <td>A201</td>\n",
       "      <td>0</td>\n",
       "    </tr>\n",
       "    <tr>\n",
       "      <th>6</th>\n",
       "      <td>A14</td>\n",
       "      <td>24</td>\n",
       "      <td>A32</td>\n",
       "      <td>A42</td>\n",
       "      <td>2835</td>\n",
       "      <td>A63</td>\n",
       "      <td>A75</td>\n",
       "      <td>3</td>\n",
       "      <td>A93</td>\n",
       "      <td>A101</td>\n",
       "      <td>...</td>\n",
       "      <td>A122</td>\n",
       "      <td>53</td>\n",
       "      <td>A143</td>\n",
       "      <td>A152</td>\n",
       "      <td>1</td>\n",
       "      <td>A173</td>\n",
       "      <td>1</td>\n",
       "      <td>A191</td>\n",
       "      <td>A201</td>\n",
       "      <td>0</td>\n",
       "    </tr>\n",
       "    <tr>\n",
       "      <th>7</th>\n",
       "      <td>A12</td>\n",
       "      <td>36</td>\n",
       "      <td>A32</td>\n",
       "      <td>A41</td>\n",
       "      <td>6948</td>\n",
       "      <td>A61</td>\n",
       "      <td>A73</td>\n",
       "      <td>2</td>\n",
       "      <td>A93</td>\n",
       "      <td>A101</td>\n",
       "      <td>...</td>\n",
       "      <td>A123</td>\n",
       "      <td>35</td>\n",
       "      <td>A143</td>\n",
       "      <td>A151</td>\n",
       "      <td>1</td>\n",
       "      <td>A174</td>\n",
       "      <td>1</td>\n",
       "      <td>A192</td>\n",
       "      <td>A201</td>\n",
       "      <td>0</td>\n",
       "    </tr>\n",
       "  </tbody>\n",
       "</table>\n",
       "<p>8 rows × 21 columns</p>\n",
       "</div>"
      ],
      "text/plain": [
       "  chkngAcctStatus  durationMonths creditHistory loanPurpose  creditAmount  \\\n",
       "0             A11               6           A34         A43          1169   \n",
       "1             A12              48           A32         A43          5951   \n",
       "2             A14              12           A34         A46          2096   \n",
       "3             A11              42           A32         A42          7882   \n",
       "4             A11              24           A33         A40          4870   \n",
       "5             A14              36           A32         A46          9055   \n",
       "6             A14              24           A32         A42          2835   \n",
       "7             A12              36           A32         A41          6948   \n",
       "\n",
       "  savingsTotal crrntEmplmtSince  instllmtPct persnlStatus  \\\n",
       "0          A65              A75            4          A93   \n",
       "1          A61              A73            2          A92   \n",
       "2          A61              A74            2          A93   \n",
       "3          A61              A74            2          A93   \n",
       "4          A61              A73            3          A93   \n",
       "5          A65              A73            2          A93   \n",
       "6          A63              A75            3          A93   \n",
       "7          A61              A73            2          A93   \n",
       "\n",
       "  othrDebtorGuaranters   ...    propertyType age  otherInstllmtType  \\\n",
       "0                 A101   ...            A121  67               A143   \n",
       "1                 A101   ...            A121  22               A143   \n",
       "2                 A101   ...            A121  49               A143   \n",
       "3                 A103   ...            A122  45               A143   \n",
       "4                 A101   ...            A124  53               A143   \n",
       "5                 A101   ...            A124  35               A143   \n",
       "6                 A101   ...            A122  53               A143   \n",
       "7                 A101   ...            A123  35               A143   \n",
       "\n",
       "  housingType existingCredits  jobStatus numDependents  registeredPhone  \\\n",
       "0        A152               2       A173             1             A192   \n",
       "1        A152               1       A173             1             A191   \n",
       "2        A152               1       A172             2             A191   \n",
       "3        A153               1       A173             2             A191   \n",
       "4        A153               2       A173             2             A191   \n",
       "5        A153               1       A172             2             A192   \n",
       "6        A152               1       A173             1             A191   \n",
       "7        A151               1       A174             1             A192   \n",
       "\n",
       "  foriegnWorker goodBad  \n",
       "0          A201       0  \n",
       "1          A201       1  \n",
       "2          A201       0  \n",
       "3          A201       0  \n",
       "4          A201       1  \n",
       "5          A201       0  \n",
       "6          A201       0  \n",
       "7          A201       0  \n",
       "\n",
       "[8 rows x 21 columns]"
      ]
     },
     "execution_count": 222,
     "metadata": {},
     "output_type": "execute_result"
    }
   ],
   "source": [
    "df.head(8)"
   ]
  },
  {
   "cell_type": "code",
   "execution_count": 223,
   "metadata": {},
   "outputs": [
    {
     "name": "stdout",
     "output_type": "stream",
     "text": [
      "<class 'pandas.core.frame.DataFrame'>\n",
      "RangeIndex: 1000 entries, 0 to 999\n",
      "Data columns (total 21 columns):\n",
      "chkngAcctStatus         1000 non-null object\n",
      "durationMonths          1000 non-null int64\n",
      "creditHistory           1000 non-null object\n",
      "loanPurpose             1000 non-null object\n",
      "creditAmount            1000 non-null int64\n",
      "savingsTotal            1000 non-null object\n",
      "crrntEmplmtSince        1000 non-null object\n",
      "instllmtPct             1000 non-null int64\n",
      "persnlStatus            1000 non-null object\n",
      "othrDebtorGuaranters    1000 non-null object\n",
      "crrntResidenceSince     1000 non-null int64\n",
      "propertyType            1000 non-null object\n",
      "age                     1000 non-null int64\n",
      "otherInstllmtType       1000 non-null object\n",
      "housingType             1000 non-null object\n",
      "existingCredits         1000 non-null int64\n",
      "jobStatus               1000 non-null object\n",
      "numDependents           1000 non-null int64\n",
      "registeredPhone         1000 non-null object\n",
      "foriegnWorker           1000 non-null object\n",
      "goodBad                 1000 non-null int64\n",
      "dtypes: int64(8), object(13)\n",
      "memory usage: 164.1+ KB\n"
     ]
    }
   ],
   "source": [
    "df.info()"
   ]
  },
  {
   "cell_type": "code",
   "execution_count": 224,
   "metadata": {},
   "outputs": [
    {
     "data": {
      "text/plain": [
       "chkngAcctStatus         False\n",
       "durationMonths          False\n",
       "creditHistory           False\n",
       "loanPurpose             False\n",
       "creditAmount            False\n",
       "savingsTotal            False\n",
       "crrntEmplmtSince        False\n",
       "instllmtPct             False\n",
       "persnlStatus            False\n",
       "othrDebtorGuaranters    False\n",
       "crrntResidenceSince     False\n",
       "propertyType            False\n",
       "age                     False\n",
       "otherInstllmtType       False\n",
       "housingType             False\n",
       "existingCredits         False\n",
       "jobStatus               False\n",
       "numDependents           False\n",
       "registeredPhone         False\n",
       "foriegnWorker           False\n",
       "goodBad                 False\n",
       "dtype: bool"
      ]
     },
     "execution_count": 224,
     "metadata": {},
     "output_type": "execute_result"
    }
   ],
   "source": [
    "df.isnull().any()"
   ]
  },
  {
   "cell_type": "code",
   "execution_count": 225,
   "metadata": {},
   "outputs": [
    {
     "data": {
      "text/plain": [
       "goodBad\n",
       "0    700\n",
       "1    300\n",
       "Name: goodBad, dtype: int64"
      ]
     },
     "execution_count": 225,
     "metadata": {},
     "output_type": "execute_result"
    }
   ],
   "source": [
    "df.groupby('goodBad')['goodBad'].count()"
   ]
  },
  {
   "cell_type": "code",
   "execution_count": 226,
   "metadata": {},
   "outputs": [],
   "source": [
    "pd.set_option('precision', 2)\n",
    "data=df.select_dtypes(include =['int64'])\n",
    "data=data.drop(['goodBad'], axis=1)\n",
    "labels=data.columns.values"
   ]
  },
  {
   "cell_type": "code",
   "execution_count": 227,
   "metadata": {},
   "outputs": [
    {
     "data": {
      "text/plain": [
       "[]"
      ]
     },
     "execution_count": 227,
     "metadata": {},
     "output_type": "execute_result"
    },
    {
     "data": {
      "image/png": "[encoded data removed]",
      "text/plain": [
       "<Figure size 432x288 with 1 Axes>"
      ]
     },
     "metadata": {},
     "output_type": "display_data"
    }
   ],
   "source": [
    "data.boxplot(return_type='dict')\n",
    "plt.plot()"
   ]
  },
  {
   "cell_type": "code",
   "execution_count": 228,
   "metadata": {},
   "outputs": [],
   "source": [
    "quantile=df.drop(['goodBad'], axis=1).describe().iloc[[4,6],:]"
   ]
  },
  {
   "cell_type": "code",
   "execution_count": 229,
   "metadata": {},
   "outputs": [],
   "source": [
    "q1=quantile.iloc[0,:]\n",
    "q3=quantile.iloc[1,:]\n",
    "IQR=q3-q1"
   ]
  },
  {
   "cell_type": "code",
   "execution_count": 230,
   "metadata": {},
   "outputs": [],
   "source": [
    "LI=q1-1.5*IQR\n",
    "LS=q3+1.5*IQR"
   ]
  },
  {
   "cell_type": "code",
   "execution_count": 231,
   "metadata": {},
   "outputs": [],
   "source": [
    "ls=np.asscalar(LS.filter(regex='durationMonths',axis=0).values)\n",
    "li=np.asscalar(LI.filter(regex='durationMonths',axis=0).values)"
   ]
  },
  {
   "cell_type": "code",
   "execution_count": 232,
   "metadata": {},
   "outputs": [],
   "source": [
    "rows_ini=df.shape[0]"
   ]
  },
  {
   "cell_type": "code",
   "execution_count": 233,
   "metadata": {},
   "outputs": [],
   "source": [
    "df=df[(df['durationMonths'] <ls) & (df['durationMonths'] >li)]\n",
    "rows_1=df.shape[0]"
   ]
  },
  {
   "cell_type": "code",
   "execution_count": 234,
   "metadata": {},
   "outputs": [
    {
     "name": "stdout",
     "output_type": "stream",
     "text": [
      "Porcentaje de datos:91.90%\n"
     ]
    }
   ],
   "source": [
    "print(\"Porcentaje de datos:{:.2f}%\".format((rows_1/rows_ini)*100))"
   ]
  },
  {
   "cell_type": "code",
   "execution_count": 235,
   "metadata": {},
   "outputs": [
    {
     "data": {
      "text/plain": [
       "(919, 21)"
      ]
     },
     "execution_count": 235,
     "metadata": {},
     "output_type": "execute_result"
    }
   ],
   "source": [
    "df.shape"
   ]
  },
  {
   "cell_type": "code",
   "execution_count": 236,
   "metadata": {},
   "outputs": [
    {
     "data": {
      "text/html": [
       "<style  type=\"text/css\" >\n",
       "    #T_a4e53448_82c9_11e8_9640_001583ebe98crow0_col0 {\n",
       "            background-color:  #023858;\n",
       "        }    #T_a4e53448_82c9_11e8_9640_001583ebe98crow0_col1 {\n",
       "            background-color:  #3b92c1;\n",
       "        }    #T_a4e53448_82c9_11e8_9640_001583ebe98crow0_col2 {\n",
       "            background-color:  #b5c4df;\n",
       "        }    #T_a4e53448_82c9_11e8_9640_001583ebe98crow0_col3 {\n",
       "            background-color:  #fdf5fa;\n",
       "        }    #T_a4e53448_82c9_11e8_9640_001583ebe98crow0_col4 {\n",
       "            background-color:  #fff7fb;\n",
       "        }    #T_a4e53448_82c9_11e8_9640_001583ebe98crow0_col5 {\n",
       "            background-color:  #fdf5fa;\n",
       "        }    #T_a4e53448_82c9_11e8_9640_001583ebe98crow0_col6 {\n",
       "            background-color:  #f9f2f8;\n",
       "        }    #T_a4e53448_82c9_11e8_9640_001583ebe98crow1_col0 {\n",
       "            background-color:  #5ea0ca;\n",
       "        }    #T_a4e53448_82c9_11e8_9640_001583ebe98crow1_col1 {\n",
       "            background-color:  #023858;\n",
       "        }    #T_a4e53448_82c9_11e8_9640_001583ebe98crow1_col2 {\n",
       "            background-color:  #fff7fb;\n",
       "        }    #T_a4e53448_82c9_11e8_9640_001583ebe98crow1_col3 {\n",
       "            background-color:  #fcf4fa;\n",
       "        }    #T_a4e53448_82c9_11e8_9640_001583ebe98crow1_col4 {\n",
       "            background-color:  #f1ebf4;\n",
       "        }    #T_a4e53448_82c9_11e8_9640_001583ebe98crow1_col5 {\n",
       "            background-color:  #faf2f8;\n",
       "        }    #T_a4e53448_82c9_11e8_9640_001583ebe98crow1_col6 {\n",
       "            background-color:  #ece7f2;\n",
       "        }    #T_a4e53448_82c9_11e8_9640_001583ebe98crow2_col0 {\n",
       "            background-color:  #dad9ea;\n",
       "        }    #T_a4e53448_82c9_11e8_9640_001583ebe98crow2_col1 {\n",
       "            background-color:  #fff7fb;\n",
       "        }    #T_a4e53448_82c9_11e8_9640_001583ebe98crow2_col2 {\n",
       "            background-color:  #023858;\n",
       "        }    #T_a4e53448_82c9_11e8_9640_001583ebe98crow2_col3 {\n",
       "            background-color:  #fff7fb;\n",
       "        }    #T_a4e53448_82c9_11e8_9640_001583ebe98crow2_col4 {\n",
       "            background-color:  #eee9f3;\n",
       "        }    #T_a4e53448_82c9_11e8_9640_001583ebe98crow2_col5 {\n",
       "            background-color:  #fff7fb;\n",
       "        }    #T_a4e53448_82c9_11e8_9640_001583ebe98crow2_col6 {\n",
       "            background-color:  #fff7fb;\n",
       "        }    #T_a4e53448_82c9_11e8_9640_001583ebe98crow3_col0 {\n",
       "            background-color:  #efe9f3;\n",
       "        }    #T_a4e53448_82c9_11e8_9640_001583ebe98crow3_col1 {\n",
       "            background-color:  #d0d1e6;\n",
       "        }    #T_a4e53448_82c9_11e8_9640_001583ebe98crow3_col2 {\n",
       "            background-color:  #d3d4e7;\n",
       "        }    #T_a4e53448_82c9_11e8_9640_001583ebe98crow3_col3 {\n",
       "            background-color:  #023858;\n",
       "        }    #T_a4e53448_82c9_11e8_9640_001583ebe98crow3_col4 {\n",
       "            background-color:  #b8c6e0;\n",
       "        }    #T_a4e53448_82c9_11e8_9640_001583ebe98crow3_col5 {\n",
       "            background-color:  #f3edf5;\n",
       "        }    #T_a4e53448_82c9_11e8_9640_001583ebe98crow3_col6 {\n",
       "            background-color:  #ede7f2;\n",
       "        }    #T_a4e53448_82c9_11e8_9640_001583ebe98crow4_col0 {\n",
       "            background-color:  #fff7fb;\n",
       "        }    #T_a4e53448_82c9_11e8_9640_001583ebe98crow4_col1 {\n",
       "            background-color:  #d2d3e7;\n",
       "        }    #T_a4e53448_82c9_11e8_9640_001583ebe98crow4_col2 {\n",
       "            background-color:  #d0d1e6;\n",
       "        }    #T_a4e53448_82c9_11e8_9640_001583ebe98crow4_col3 {\n",
       "            background-color:  #d0d1e6;\n",
       "        }    #T_a4e53448_82c9_11e8_9640_001583ebe98crow4_col4 {\n",
       "            background-color:  #023858;\n",
       "        }    #T_a4e53448_82c9_11e8_9640_001583ebe98crow4_col5 {\n",
       "            background-color:  #e9e5f1;\n",
       "        }    #T_a4e53448_82c9_11e8_9640_001583ebe98crow4_col6 {\n",
       "            background-color:  #dad9ea;\n",
       "        }    #T_a4e53448_82c9_11e8_9640_001583ebe98crow5_col0 {\n",
       "            background-color:  #f0eaf4;\n",
       "        }    #T_a4e53448_82c9_11e8_9640_001583ebe98crow5_col1 {\n",
       "            background-color:  #cccfe5;\n",
       "        }    #T_a4e53448_82c9_11e8_9640_001583ebe98crow5_col2 {\n",
       "            background-color:  #d4d4e8;\n",
       "        }    #T_a4e53448_82c9_11e8_9640_001583ebe98crow5_col3 {\n",
       "            background-color:  #f4edf6;\n",
       "        }    #T_a4e53448_82c9_11e8_9640_001583ebe98crow5_col4 {\n",
       "            background-color:  #d9d8ea;\n",
       "        }    #T_a4e53448_82c9_11e8_9640_001583ebe98crow5_col5 {\n",
       "            background-color:  #023858;\n",
       "        }    #T_a4e53448_82c9_11e8_9640_001583ebe98crow5_col6 {\n",
       "            background-color:  #e0dded;\n",
       "        }    #T_a4e53448_82c9_11e8_9640_001583ebe98crow6_col0 {\n",
       "            background-color:  #fdf5fa;\n",
       "        }    #T_a4e53448_82c9_11e8_9640_001583ebe98crow6_col1 {\n",
       "            background-color:  #d1d2e6;\n",
       "        }    #T_a4e53448_82c9_11e8_9640_001583ebe98crow6_col2 {\n",
       "            background-color:  #e9e5f1;\n",
       "        }    #T_a4e53448_82c9_11e8_9640_001583ebe98crow6_col3 {\n",
       "            background-color:  #fdf5fa;\n",
       "        }    #T_a4e53448_82c9_11e8_9640_001583ebe98crow6_col4 {\n",
       "            background-color:  #dfddec;\n",
       "        }    #T_a4e53448_82c9_11e8_9640_001583ebe98crow6_col5 {\n",
       "            background-color:  #f3edf5;\n",
       "        }    #T_a4e53448_82c9_11e8_9640_001583ebe98crow6_col6 {\n",
       "            background-color:  #023858;\n",
       "        }</style>  \n",
       "<table id=\"T_a4e53448_82c9_11e8_9640_001583ebe98c\" > \n",
       "<thead>    <tr> \n",
       "        <th class=\"blank level0\" ></th> \n",
       "        <th class=\"col_heading level0 col0\" >durationMonths</th> \n",
       "        <th class=\"col_heading level0 col1\" >creditAmount</th> \n",
       "        <th class=\"col_heading level0 col2\" >instllmtPct</th> \n",
       "        <th class=\"col_heading level0 col3\" >crrntResidenceSince</th> \n",
       "        <th class=\"col_heading level0 col4\" >age</th> \n",
       "        <th class=\"col_heading level0 col5\" >existingCredits</th> \n",
       "        <th class=\"col_heading level0 col6\" >numDependents</th> \n",
       "    </tr></thead> \n",
       "<tbody>    <tr> \n",
       "        <th id=\"T_a4e53448_82c9_11e8_9640_001583ebe98clevel0_row0\" class=\"row_heading level0 row0\" >durationMonths</th> \n",
       "        <td id=\"T_a4e53448_82c9_11e8_9640_001583ebe98crow0_col0\" class=\"data row0 col0\" >1</td> \n",
       "        <td id=\"T_a4e53448_82c9_11e8_9640_001583ebe98crow0_col1\" class=\"data row0 col1\" >0.51</td> \n",
       "        <td id=\"T_a4e53448_82c9_11e8_9640_001583ebe98crow0_col2\" class=\"data row0 col2\" >0.14</td> \n",
       "        <td id=\"T_a4e53448_82c9_11e8_9640_001583ebe98crow0_col3\" class=\"data row0 col3\" >0.038</td> \n",
       "        <td id=\"T_a4e53448_82c9_11e8_9640_001583ebe98crow0_col4\" class=\"data row0 col4\" >-0.076</td> \n",
       "        <td id=\"T_a4e53448_82c9_11e8_9640_001583ebe98crow0_col5\" class=\"data row0 col5\" >0.037</td> \n",
       "        <td id=\"T_a4e53448_82c9_11e8_9640_001583ebe98crow0_col6\" class=\"data row0 col6\" >-0.057</td> \n",
       "    </tr>    <tr> \n",
       "        <th id=\"T_a4e53448_82c9_11e8_9640_001583ebe98clevel0_row1\" class=\"row_heading level0 row1\" >creditAmount</th> \n",
       "        <td id=\"T_a4e53448_82c9_11e8_9640_001583ebe98crow1_col0\" class=\"data row1 col0\" >0.51</td> \n",
       "        <td id=\"T_a4e53448_82c9_11e8_9640_001583ebe98crow1_col1\" class=\"data row1 col1\" >1</td> \n",
       "        <td id=\"T_a4e53448_82c9_11e8_9640_001583ebe98crow1_col2\" class=\"data row1 col2\" >-0.28</td> \n",
       "        <td id=\"T_a4e53448_82c9_11e8_9640_001583ebe98crow1_col3\" class=\"data row1 col3\" >0.043</td> \n",
       "        <td id=\"T_a4e53448_82c9_11e8_9640_001583ebe98crow1_col4\" class=\"data row1 col4\" >0.025</td> \n",
       "        <td id=\"T_a4e53448_82c9_11e8_9640_001583ebe98crow1_col5\" class=\"data row1 col5\" >0.055</td> \n",
       "        <td id=\"T_a4e53448_82c9_11e8_9640_001583ebe98crow1_col6\" class=\"data row1 col6\" >0.037</td> \n",
       "    </tr>    <tr> \n",
       "        <th id=\"T_a4e53448_82c9_11e8_9640_001583ebe98clevel0_row2\" class=\"row_heading level0 row2\" >instllmtPct</th> \n",
       "        <td id=\"T_a4e53448_82c9_11e8_9640_001583ebe98crow2_col0\" class=\"data row2 col0\" >0.14</td> \n",
       "        <td id=\"T_a4e53448_82c9_11e8_9640_001583ebe98crow2_col1\" class=\"data row2 col1\" >-0.28</td> \n",
       "        <td id=\"T_a4e53448_82c9_11e8_9640_001583ebe98crow2_col2\" class=\"data row2 col2\" >1</td> \n",
       "        <td id=\"T_a4e53448_82c9_11e8_9640_001583ebe98crow2_col3\" class=\"data row2 col3\" >0.022</td> \n",
       "        <td id=\"T_a4e53448_82c9_11e8_9640_001583ebe98crow2_col4\" class=\"data row2 col4\" >0.042</td> \n",
       "        <td id=\"T_a4e53448_82c9_11e8_9640_001583ebe98crow2_col5\" class=\"data row2 col5\" >0.018</td> \n",
       "        <td id=\"T_a4e53448_82c9_11e8_9640_001583ebe98crow2_col6\" class=\"data row2 col6\" >-0.1</td> \n",
       "    </tr>    <tr> \n",
       "        <th id=\"T_a4e53448_82c9_11e8_9640_001583ebe98clevel0_row3\" class=\"row_heading level0 row3\" >crrntResidenceSince</th> \n",
       "        <td id=\"T_a4e53448_82c9_11e8_9640_001583ebe98crow3_col0\" class=\"data row3 col0\" >0.038</td> \n",
       "        <td id=\"T_a4e53448_82c9_11e8_9640_001583ebe98crow3_col1\" class=\"data row3 col1\" >0.043</td> \n",
       "        <td id=\"T_a4e53448_82c9_11e8_9640_001583ebe98crow3_col2\" class=\"data row3 col2\" >0.022</td> \n",
       "        <td id=\"T_a4e53448_82c9_11e8_9640_001583ebe98crow3_col3\" class=\"data row3 col3\" >1</td> \n",
       "        <td id=\"T_a4e53448_82c9_11e8_9640_001583ebe98crow3_col4\" class=\"data row3 col4\" >0.27</td> \n",
       "        <td id=\"T_a4e53448_82c9_11e8_9640_001583ebe98crow3_col5\" class=\"data row3 col5\" >0.095</td> \n",
       "        <td id=\"T_a4e53448_82c9_11e8_9640_001583ebe98crow3_col6\" class=\"data row3 col6\" >0.033</td> \n",
       "    </tr>    <tr> \n",
       "        <th id=\"T_a4e53448_82c9_11e8_9640_001583ebe98clevel0_row4\" class=\"row_heading level0 row4\" >age</th> \n",
       "        <td id=\"T_a4e53448_82c9_11e8_9640_001583ebe98crow4_col0\" class=\"data row4 col0\" >-0.076</td> \n",
       "        <td id=\"T_a4e53448_82c9_11e8_9640_001583ebe98crow4_col1\" class=\"data row4 col1\" >0.025</td> \n",
       "        <td id=\"T_a4e53448_82c9_11e8_9640_001583ebe98crow4_col2\" class=\"data row4 col2\" >0.042</td> \n",
       "        <td id=\"T_a4e53448_82c9_11e8_9640_001583ebe98crow4_col3\" class=\"data row4 col3\" >0.27</td> \n",
       "        <td id=\"T_a4e53448_82c9_11e8_9640_001583ebe98crow4_col4\" class=\"data row4 col4\" >1</td> \n",
       "        <td id=\"T_a4e53448_82c9_11e8_9640_001583ebe98crow4_col5\" class=\"data row4 col5\" >0.15</td> \n",
       "        <td id=\"T_a4e53448_82c9_11e8_9640_001583ebe98crow4_col6\" class=\"data row4 col6\" >0.13</td> \n",
       "    </tr>    <tr> \n",
       "        <th id=\"T_a4e53448_82c9_11e8_9640_001583ebe98clevel0_row5\" class=\"row_heading level0 row5\" >existingCredits</th> \n",
       "        <td id=\"T_a4e53448_82c9_11e8_9640_001583ebe98crow5_col0\" class=\"data row5 col0\" >0.037</td> \n",
       "        <td id=\"T_a4e53448_82c9_11e8_9640_001583ebe98crow5_col1\" class=\"data row5 col1\" >0.055</td> \n",
       "        <td id=\"T_a4e53448_82c9_11e8_9640_001583ebe98crow5_col2\" class=\"data row5 col2\" >0.018</td> \n",
       "        <td id=\"T_a4e53448_82c9_11e8_9640_001583ebe98crow5_col3\" class=\"data row5 col3\" >0.095</td> \n",
       "        <td id=\"T_a4e53448_82c9_11e8_9640_001583ebe98crow5_col4\" class=\"data row5 col4\" >0.15</td> \n",
       "        <td id=\"T_a4e53448_82c9_11e8_9640_001583ebe98crow5_col5\" class=\"data row5 col5\" >1</td> \n",
       "        <td id=\"T_a4e53448_82c9_11e8_9640_001583ebe98crow5_col6\" class=\"data row5 col6\" >0.098</td> \n",
       "    </tr>    <tr> \n",
       "        <th id=\"T_a4e53448_82c9_11e8_9640_001583ebe98clevel0_row6\" class=\"row_heading level0 row6\" >numDependents</th> \n",
       "        <td id=\"T_a4e53448_82c9_11e8_9640_001583ebe98crow6_col0\" class=\"data row6 col0\" >-0.057</td> \n",
       "        <td id=\"T_a4e53448_82c9_11e8_9640_001583ebe98crow6_col1\" class=\"data row6 col1\" >0.037</td> \n",
       "        <td id=\"T_a4e53448_82c9_11e8_9640_001583ebe98crow6_col2\" class=\"data row6 col2\" >-0.1</td> \n",
       "        <td id=\"T_a4e53448_82c9_11e8_9640_001583ebe98crow6_col3\" class=\"data row6 col3\" >0.033</td> \n",
       "        <td id=\"T_a4e53448_82c9_11e8_9640_001583ebe98crow6_col4\" class=\"data row6 col4\" >0.13</td> \n",
       "        <td id=\"T_a4e53448_82c9_11e8_9640_001583ebe98crow6_col5\" class=\"data row6 col5\" >0.098</td> \n",
       "        <td id=\"T_a4e53448_82c9_11e8_9640_001583ebe98crow6_col6\" class=\"data row6 col6\" >1</td> \n",
       "    </tr></tbody> \n",
       "</table> "
      ],
      "text/plain": [
       "<pandas.io.formats.style.Styler at 0x255e4116080>"
      ]
     },
     "execution_count": 236,
     "metadata": {},
     "output_type": "execute_result"
    }
   ],
   "source": [
    "corr=df.drop(['goodBad'], axis=1).corr(method='pearson', min_periods=1)\n",
    "corr.style.background_gradient()"
   ]
  },
  {
   "cell_type": "code",
   "execution_count": 237,
   "metadata": {},
   "outputs": [
    {
     "name": "stdout",
     "output_type": "stream",
     "text": [
      "(919, 20)\n"
     ]
    }
   ],
   "source": [
    "df=df.drop(['creditAmount'], axis=1)\n",
    "print(df.shape)"
   ]
  },
  {
   "cell_type": "code",
   "execution_count": 238,
   "metadata": {},
   "outputs": [],
   "source": [
    "hr_vars=df.columns.values.tolist()\n",
    "y=df.select_dtypes(exclude =['int64']).columns\n",
    "X=[i for i in hr_vars if i in y]"
   ]
  },
  {
   "cell_type": "code",
   "execution_count": 239,
   "metadata": {},
   "outputs": [],
   "source": [
    "#Function for one-hot encoding (dummy variable) of categorical variables\n",
    "\n",
    "cat_vars=X\n",
    "\n",
    "for var in cat_vars:\n",
    "    cat_list='var'+'_'+var\n",
    "    cat_list = pd.get_dummies(df[var], prefix=var)\n",
    "    df1=df.join(cat_list)\n",
    "    df=df1"
   ]
  },
  {
   "cell_type": "code",
   "execution_count": 240,
   "metadata": {},
   "outputs": [
    {
     "data": {
      "text/plain": [
       "(919, 74)"
      ]
     },
     "execution_count": 240,
     "metadata": {},
     "output_type": "execute_result"
    }
   ],
   "source": [
    "df.shape  "
   ]
  },
  {
   "cell_type": "code",
   "execution_count": 241,
   "metadata": {},
   "outputs": [
    {
     "data": {
      "text/html": [
       "<div>\n",
       "<style scoped>\n",
       "    .dataframe tbody tr th:only-of-type {\n",
       "        vertical-align: middle;\n",
       "    }\n",
       "\n",
       "    .dataframe tbody tr th {\n",
       "        vertical-align: top;\n",
       "    }\n",
       "\n",
       "    .dataframe thead th {\n",
       "        text-align: right;\n",
       "    }\n",
       "</style>\n",
       "<table border=\"1\" class=\"dataframe\">\n",
       "  <thead>\n",
       "    <tr style=\"text-align: right;\">\n",
       "      <th></th>\n",
       "      <th>durationMonths</th>\n",
       "      <th>instllmtPct</th>\n",
       "      <th>crrntResidenceSince</th>\n",
       "      <th>age</th>\n",
       "      <th>existingCredits</th>\n",
       "      <th>numDependents</th>\n",
       "      <th>goodBad</th>\n",
       "      <th>chkngAcctStatus_A11</th>\n",
       "      <th>chkngAcctStatus_A12</th>\n",
       "      <th>chkngAcctStatus_A13</th>\n",
       "      <th>...</th>\n",
       "      <th>housingType_A152</th>\n",
       "      <th>housingType_A153</th>\n",
       "      <th>jobStatus_A171</th>\n",
       "      <th>jobStatus_A172</th>\n",
       "      <th>jobStatus_A173</th>\n",
       "      <th>jobStatus_A174</th>\n",
       "      <th>registeredPhone_A191</th>\n",
       "      <th>registeredPhone_A192</th>\n",
       "      <th>foriegnWorker_A201</th>\n",
       "      <th>foriegnWorker_A202</th>\n",
       "    </tr>\n",
       "  </thead>\n",
       "  <tbody>\n",
       "    <tr>\n",
       "      <th>0</th>\n",
       "      <td>6</td>\n",
       "      <td>4</td>\n",
       "      <td>4</td>\n",
       "      <td>67</td>\n",
       "      <td>2</td>\n",
       "      <td>1</td>\n",
       "      <td>0</td>\n",
       "      <td>1</td>\n",
       "      <td>0</td>\n",
       "      <td>0</td>\n",
       "      <td>...</td>\n",
       "      <td>1</td>\n",
       "      <td>0</td>\n",
       "      <td>0</td>\n",
       "      <td>0</td>\n",
       "      <td>1</td>\n",
       "      <td>0</td>\n",
       "      <td>0</td>\n",
       "      <td>1</td>\n",
       "      <td>1</td>\n",
       "      <td>0</td>\n",
       "    </tr>\n",
       "    <tr>\n",
       "      <th>2</th>\n",
       "      <td>12</td>\n",
       "      <td>2</td>\n",
       "      <td>3</td>\n",
       "      <td>49</td>\n",
       "      <td>1</td>\n",
       "      <td>2</td>\n",
       "      <td>0</td>\n",
       "      <td>0</td>\n",
       "      <td>0</td>\n",
       "      <td>0</td>\n",
       "      <td>...</td>\n",
       "      <td>1</td>\n",
       "      <td>0</td>\n",
       "      <td>0</td>\n",
       "      <td>1</td>\n",
       "      <td>0</td>\n",
       "      <td>0</td>\n",
       "      <td>1</td>\n",
       "      <td>0</td>\n",
       "      <td>1</td>\n",
       "      <td>0</td>\n",
       "    </tr>\n",
       "    <tr>\n",
       "      <th>4</th>\n",
       "      <td>24</td>\n",
       "      <td>3</td>\n",
       "      <td>4</td>\n",
       "      <td>53</td>\n",
       "      <td>2</td>\n",
       "      <td>2</td>\n",
       "      <td>1</td>\n",
       "      <td>1</td>\n",
       "      <td>0</td>\n",
       "      <td>0</td>\n",
       "      <td>...</td>\n",
       "      <td>0</td>\n",
       "      <td>1</td>\n",
       "      <td>0</td>\n",
       "      <td>0</td>\n",
       "      <td>1</td>\n",
       "      <td>0</td>\n",
       "      <td>1</td>\n",
       "      <td>0</td>\n",
       "      <td>1</td>\n",
       "      <td>0</td>\n",
       "    </tr>\n",
       "  </tbody>\n",
       "</table>\n",
       "<p>3 rows × 61 columns</p>\n",
       "</div>"
      ],
      "text/plain": [
       "   durationMonths  instllmtPct  crrntResidenceSince  age  existingCredits  \\\n",
       "0               6            4                    4   67                2   \n",
       "2              12            2                    3   49                1   \n",
       "4              24            3                    4   53                2   \n",
       "\n",
       "   numDependents  goodBad  chkngAcctStatus_A11  chkngAcctStatus_A12  \\\n",
       "0              1        0                    1                    0   \n",
       "2              2        0                    0                    0   \n",
       "4              2        1                    1                    0   \n",
       "\n",
       "   chkngAcctStatus_A13         ...          housingType_A152  \\\n",
       "0                    0         ...                         1   \n",
       "2                    0         ...                         1   \n",
       "4                    0         ...                         0   \n",
       "\n",
       "   housingType_A153  jobStatus_A171  jobStatus_A172  jobStatus_A173  \\\n",
       "0                 0               0               0               1   \n",
       "2                 0               0               1               0   \n",
       "4                 1               0               0               1   \n",
       "\n",
       "   jobStatus_A174  registeredPhone_A191  registeredPhone_A192  \\\n",
       "0               0                     0                     1   \n",
       "2               0                     1                     0   \n",
       "4               0                     1                     0   \n",
       "\n",
       "   foriegnWorker_A201  foriegnWorker_A202  \n",
       "0                   1                   0  \n",
       "2                   1                   0  \n",
       "4                   1                   0  \n",
       "\n",
       "[3 rows x 61 columns]"
      ]
     },
     "execution_count": 241,
     "metadata": {},
     "output_type": "execute_result"
    }
   ],
   "source": [
    "df=df.drop(X, axis=1)\n",
    "df.head(3)"
   ]
  },
  {
   "cell_type": "code",
   "execution_count": 242,
   "metadata": {},
   "outputs": [
    {
     "data": {
      "text/plain": [
       "(919, 61)"
      ]
     },
     "execution_count": 242,
     "metadata": {},
     "output_type": "execute_result"
    }
   ],
   "source": [
    "df.shape "
   ]
  },
  {
   "cell_type": "code",
   "execution_count": 243,
   "metadata": {},
   "outputs": [
    {
     "name": "stdout",
     "output_type": "stream",
     "text": [
      "(919, 60) (919,)\n"
     ]
    }
   ],
   "source": [
    "x = df.drop(['goodBad'], axis=1)\n",
    "y = df['goodBad']\n",
    "print(x.shape,y.shape)"
   ]
  },
  {
   "cell_type": "code",
   "execution_count": 244,
   "metadata": {},
   "outputs": [
    {
     "name": "stdout",
     "output_type": "stream",
     "text": [
      "[False False False False False False False False  True  True  True  True\n",
      " False False  True  True  True False False False False  True  True  True\n",
      " False False False False  True False False False False  True False False\n",
      " False False False False  True  True False False False False False False\n",
      " False False False False False False False False False False False  True]\n",
      "[41 21 35 44 33 25  9 13  1  1  1  1 14 20  1  1  1 15 39 16 26  1  1  1 29\n",
      "  2 46 42  1 27 23  8 40  1 19  4 37 12 28 32  1  1  3 31 34 11 43 38  5 45\n",
      "  7 10 22 30 36 17 24 18  6  1]\n"
     ]
    }
   ],
   "source": [
    "from sklearn.feature_selection import RFE\n",
    "from sklearn.linear_model import LogisticRegression\n",
    "\n",
    "model = LogisticRegression()\n",
    "model.fit(x,y)\n",
    "rfe = RFE(model, 15)\n",
    "rfe = rfe.fit(x,y)\n",
    "print(rfe.support_)\n",
    "print(rfe.ranking_)\n",
    "\n"
   ]
  },
  {
   "cell_type": "code",
   "execution_count": 245,
   "metadata": {},
   "outputs": [],
   "source": [
    "aux=pd.concat([pd.DataFrame(x.columns.values), pd.DataFrame(rfe.ranking_)], axis=1)\n",
    "aux.columns=['Variables','Rank']\n",
    "var=aux[(aux.Rank == 1)]['Variables'].values.tolist()"
   ]
  },
  {
   "cell_type": "code",
   "execution_count": 246,
   "metadata": {},
   "outputs": [],
   "source": [
    "x=x[var]"
   ]
  },
  {
   "cell_type": "code",
   "execution_count": 257,
   "metadata": {},
   "outputs": [],
   "source": [
    "x_train, x_test, y_train, y_test  =train_test_split(x, y, test_size=.3, random_state=123)"
   ]
  },
  {
   "cell_type": "code",
   "execution_count": 258,
   "metadata": {},
   "outputs": [
    {
     "data": {
      "text/plain": [
       "LogisticRegression(C=1.0, class_weight=None, dual=False, fit_intercept=True,\n",
       "          intercept_scaling=1, max_iter=100, multi_class='ovr', n_jobs=1,\n",
       "          penalty='l2', random_state=None, solver='liblinear', tol=0.0001,\n",
       "          verbose=0, warm_start=False)"
      ]
     },
     "execution_count": 258,
     "metadata": {},
     "output_type": "execute_result"
    }
   ],
   "source": [
    "#Regresión logistica\n",
    "from sklearn.linear_model import LogisticRegression\n",
    "from sklearn import metrics\n",
    "\n",
    "logreg = LogisticRegression()\n",
    "logreg.fit(x_train, y_train)\n"
   ]
  },
  {
   "cell_type": "code",
   "execution_count": 259,
   "metadata": {},
   "outputs": [
    {
     "name": "stdout",
     "output_type": "stream",
     "text": [
      "Score:  0.760869565217\n"
     ]
    }
   ],
   "source": [
    "score=logreg.score(x_test,y_test)\n",
    "print(\"Score: \",score)"
   ]
  },
  {
   "cell_type": "code",
   "execution_count": 260,
   "metadata": {},
   "outputs": [
    {
     "data": {
      "text/html": [
       "<div>\n",
       "<style scoped>\n",
       "    .dataframe tbody tr th:only-of-type {\n",
       "        vertical-align: middle;\n",
       "    }\n",
       "\n",
       "    .dataframe tbody tr th {\n",
       "        vertical-align: top;\n",
       "    }\n",
       "\n",
       "    .dataframe thead th {\n",
       "        text-align: right;\n",
       "    }\n",
       "</style>\n",
       "<table border=\"1\" class=\"dataframe\">\n",
       "  <thead>\n",
       "    <tr style=\"text-align: right;\">\n",
       "      <th></th>\n",
       "      <th>Predicted False</th>\n",
       "      <th>Predicted True</th>\n",
       "    </tr>\n",
       "  </thead>\n",
       "  <tbody>\n",
       "    <tr>\n",
       "      <th>Actual False</th>\n",
       "      <td>190</td>\n",
       "      <td>18</td>\n",
       "    </tr>\n",
       "    <tr>\n",
       "      <th>Actual True</th>\n",
       "      <td>48</td>\n",
       "      <td>20</td>\n",
       "    </tr>\n",
       "  </tbody>\n",
       "</table>\n",
       "</div>"
      ],
      "text/plain": [
       "              Predicted False  Predicted True\n",
       "Actual False              190              18\n",
       "Actual True                48              20"
      ]
     },
     "metadata": {},
     "output_type": "display_data"
    }
   ],
   "source": [
    "from sklearn.metrics import confusion_matrix\n",
    "get_ipython().magic('matplotlib inline')\n",
    "confusion_matrix = pd.DataFrame(\n",
    "    confusion_matrix(y_test, logreg.predict(x_test)), \n",
    "    columns=[\"Predicted False\", \"Predicted True\"], \n",
    "    index=[\"Actual False\", \"Actual True\"]\n",
    ")\n",
    "display(confusion_matrix)"
   ]
  },
  {
   "cell_type": "code",
   "execution_count": 261,
   "metadata": {},
   "outputs": [
    {
     "name": "stdout",
     "output_type": "stream",
     "text": [
      "             precision    recall  f1-score   support\n",
      "\n",
      "          0       0.80      0.91      0.85       208\n",
      "          1       0.53      0.29      0.38        68\n",
      "\n",
      "avg / total       0.73      0.76      0.74       276\n",
      "\n"
     ]
    }
   ],
   "source": [
    "from sklearn.metrics import classification_report\n",
    "print(classification_report(y_test, logreg.predict(x_test)))"
   ]
  },
  {
   "cell_type": "code",
   "execution_count": 250,
   "metadata": {},
   "outputs": [
    {
     "data": {
      "text/plain": [
       "DecisionTreeClassifier(class_weight=None, criterion='gini', max_depth=None,\n",
       "            max_features=None, max_leaf_nodes=None,\n",
       "            min_impurity_decrease=0.0, min_impurity_split=None,\n",
       "            min_samples_leaf=1, min_samples_split=2,\n",
       "            min_weight_fraction_leaf=0.0, presort=False, random_state=None,\n",
       "            splitter='best')"
      ]
     },
     "execution_count": 250,
     "metadata": {},
     "output_type": "execute_result"
    }
   ],
   "source": [
    "#Tree\n",
    "from sklearn.tree import DecisionTreeClassifier\n",
    "\n",
    "tree = DecisionTreeClassifier()\n",
    "tree.fit(x_train, y_train)"
   ]
  },
  {
   "cell_type": "code",
   "execution_count": 251,
   "metadata": {},
   "outputs": [
    {
     "name": "stdout",
     "output_type": "stream",
     "text": [
      "Score:  0.735507246377\n"
     ]
    }
   ],
   "source": [
    "score=tree.score(x_test,y_test)\n",
    "print(\"Score: \",score)"
   ]
  },
  {
   "cell_type": "code",
   "execution_count": 252,
   "metadata": {},
   "outputs": [
    {
     "data": {
      "text/html": [
       "<div>\n",
       "<style scoped>\n",
       "    .dataframe tbody tr th:only-of-type {\n",
       "        vertical-align: middle;\n",
       "    }\n",
       "\n",
       "    .dataframe tbody tr th {\n",
       "        vertical-align: top;\n",
       "    }\n",
       "\n",
       "    .dataframe thead th {\n",
       "        text-align: right;\n",
       "    }\n",
       "</style>\n",
       "<table border=\"1\" class=\"dataframe\">\n",
       "  <thead>\n",
       "    <tr style=\"text-align: right;\">\n",
       "      <th></th>\n",
       "      <th>Predicted False</th>\n",
       "      <th>Predicted True</th>\n",
       "    </tr>\n",
       "  </thead>\n",
       "  <tbody>\n",
       "    <tr>\n",
       "      <th>Actual False</th>\n",
       "      <td>179</td>\n",
       "      <td>29</td>\n",
       "    </tr>\n",
       "    <tr>\n",
       "      <th>Actual True</th>\n",
       "      <td>44</td>\n",
       "      <td>24</td>\n",
       "    </tr>\n",
       "  </tbody>\n",
       "</table>\n",
       "</div>"
      ],
      "text/plain": [
       "              Predicted False  Predicted True\n",
       "Actual False              179              29\n",
       "Actual True                44              24"
      ]
     },
     "metadata": {},
     "output_type": "display_data"
    }
   ],
   "source": [
    "from sklearn.metrics import confusion_matrix\n",
    "get_ipython().magic('matplotlib inline')\n",
    "confusion_matrix = pd.DataFrame(\n",
    "    confusion_matrix(y_test, tree.predict(x_test)), \n",
    "    columns=[\"Predicted False\", \"Predicted True\"], \n",
    "    index=[\"Actual False\", \"Actual True\"]\n",
    ")\n",
    "display(confusion_matrix)"
   ]
  },
  {
   "cell_type": "code",
   "execution_count": 262,
   "metadata": {},
   "outputs": [
    {
     "name": "stdout",
     "output_type": "stream",
     "text": [
      "             precision    recall  f1-score   support\n",
      "\n",
      "          0       0.80      0.86      0.83       208\n",
      "          1       0.45      0.35      0.40        68\n",
      "\n",
      "avg / total       0.72      0.74      0.72       276\n",
      "\n"
     ]
    }
   ],
   "source": [
    "from sklearn.metrics import classification_report\n",
    "print(classification_report(y_test, tree.predict(x_test)))"
   ]
  },
  {
   "cell_type": "code",
   "execution_count": 263,
   "metadata": {},
   "outputs": [
    {
     "data": {
      "text/plain": [
       "RandomForestClassifier(bootstrap=True, class_weight=None, criterion='gini',\n",
       "            max_depth=None, max_features='auto', max_leaf_nodes=None,\n",
       "            min_impurity_decrease=0.0, min_impurity_split=None,\n",
       "            min_samples_leaf=1, min_samples_split=2,\n",
       "            min_weight_fraction_leaf=0.0, n_estimators=10, n_jobs=1,\n",
       "            oob_score=False, random_state=None, verbose=0,\n",
       "            warm_start=False)"
      ]
     },
     "execution_count": 263,
     "metadata": {},
     "output_type": "execute_result"
    }
   ],
   "source": [
    "#Random Forest\n",
    "from sklearn.ensemble import RandomForestClassifier\n",
    "rf = RandomForestClassifier()\n",
    "rf.fit(x_train, y_train)"
   ]
  },
  {
   "cell_type": "code",
   "execution_count": 264,
   "metadata": {},
   "outputs": [
    {
     "name": "stdout",
     "output_type": "stream",
     "text": [
      "Score:  0.739130434783\n"
     ]
    }
   ],
   "source": [
    "score=rf.score(x_test,y_test)\n",
    "print(\"Score: \",score)"
   ]
  },
  {
   "cell_type": "code",
   "execution_count": 265,
   "metadata": {},
   "outputs": [
    {
     "data": {
      "text/html": [
       "<div>\n",
       "<style scoped>\n",
       "    .dataframe tbody tr th:only-of-type {\n",
       "        vertical-align: middle;\n",
       "    }\n",
       "\n",
       "    .dataframe tbody tr th {\n",
       "        vertical-align: top;\n",
       "    }\n",
       "\n",
       "    .dataframe thead th {\n",
       "        text-align: right;\n",
       "    }\n",
       "</style>\n",
       "<table border=\"1\" class=\"dataframe\">\n",
       "  <thead>\n",
       "    <tr style=\"text-align: right;\">\n",
       "      <th></th>\n",
       "      <th>Predicted False</th>\n",
       "      <th>Predicted True</th>\n",
       "    </tr>\n",
       "  </thead>\n",
       "  <tbody>\n",
       "    <tr>\n",
       "      <th>Actual False</th>\n",
       "      <td>182</td>\n",
       "      <td>26</td>\n",
       "    </tr>\n",
       "    <tr>\n",
       "      <th>Actual True</th>\n",
       "      <td>46</td>\n",
       "      <td>22</td>\n",
       "    </tr>\n",
       "  </tbody>\n",
       "</table>\n",
       "</div>"
      ],
      "text/plain": [
       "              Predicted False  Predicted True\n",
       "Actual False              182              26\n",
       "Actual True                46              22"
      ]
     },
     "metadata": {},
     "output_type": "display_data"
    }
   ],
   "source": [
    "from sklearn.metrics import confusion_matrix\n",
    "get_ipython().magic('matplotlib inline')\n",
    "confusion_matrix = pd.DataFrame(\n",
    "    confusion_matrix(y_test, rf.predict(x_test)), \n",
    "    columns=[\"Predicted False\", \"Predicted True\"], \n",
    "    index=[\"Actual False\", \"Actual True\"]\n",
    ")\n",
    "display(confusion_matrix)"
   ]
  },
  {
   "cell_type": "code",
   "execution_count": 266,
   "metadata": {},
   "outputs": [
    {
     "name": "stdout",
     "output_type": "stream",
     "text": [
      "             precision    recall  f1-score   support\n",
      "\n",
      "          0       0.80      0.88      0.83       208\n",
      "          1       0.46      0.32      0.38        68\n",
      "\n",
      "avg / total       0.71      0.74      0.72       276\n",
      "\n"
     ]
    }
   ],
   "source": [
    "from sklearn.metrics import classification_report\n",
    "print(classification_report(y_test, rf.predict(x_test)))"
   ]
  },
  {
   "cell_type": "code",
   "execution_count": 267,
   "metadata": {},
   "outputs": [
    {
     "data": {
      "image/png": "[encoded data removed]",
      "text/plain": [
       "<Figure size 432x288 with 1 Axes>"
      ]
     },
     "metadata": {},
     "output_type": "display_data"
    }
   ],
   "source": [
    "from sklearn.metrics import roc_auc_score\n",
    "from sklearn.metrics import roc_curve\n",
    "from sklearn.preprocessing import label_binarize\n",
    "\n",
    "\n",
    "logit_roc_auc = roc_auc_score(y_test,logreg.predict(x_test))\n",
    "fpr, tpr, thresholds = roc_curve(y_test, logreg.predict_proba(x_test)[:,1])\n",
    "\n",
    "tree_roc_auc = roc_auc_score(y_test, tree.predict(x_test))\n",
    "tree_fpr, tree_tpr, tree_thresholds = roc_curve(y_test, tree.predict_proba(x_test)[:,1])\n",
    "\n",
    "rf_roc_auc = roc_auc_score(y_test, rf.predict(x_test))\n",
    "rf_fpr, rf_tpr, rf_thresholds = roc_curve(y_test, rf.predict_proba(x_test)[:,1])\n",
    "\n",
    "plt.figure()\n",
    "plt.plot(fpr, tpr, label='Logistic Regression (area = %0.2f)' % logit_roc_auc)\n",
    "plt.plot(tree_fpr, tree_tpr, label='Tree (area = %0.2f)' % tree_roc_auc)\n",
    "plt.plot(rf_fpr, rf_tpr, label='Random Forest (area = %0.2f)' % rf_roc_auc)\n",
    "plt.plot([0, 1], [0, 1],'r--')\n",
    "plt.xlim([0.0, 1.0])\n",
    "plt.ylim([0.0, 1.05])\n",
    "plt.xlabel('False Positive Rate')\n",
    "plt.ylabel('True Positive Rate')\n",
    "plt.title('Receiver operating characteristic')\n",
    "plt.legend(loc=\"lower right\")\n",
    "plt.savefig('ROC')\n",
    "plt.show()"
   ]
  },
  {
   "cell_type": "code",
   "execution_count": 269,
   "metadata": {},
   "outputs": [
    {
     "data": {
      "text/html": [
       "<div>\n",
       "<style scoped>\n",
       "    .dataframe tbody tr th:only-of-type {\n",
       "        vertical-align: middle;\n",
       "    }\n",
       "\n",
       "    .dataframe tbody tr th {\n",
       "        vertical-align: top;\n",
       "    }\n",
       "\n",
       "    .dataframe thead th {\n",
       "        text-align: right;\n",
       "    }\n",
       "</style>\n",
       "<table border=\"1\" class=\"dataframe\">\n",
       "  <thead>\n",
       "    <tr style=\"text-align: right;\">\n",
       "      <th></th>\n",
       "      <th>importance</th>\n",
       "      <th>labels</th>\n",
       "    </tr>\n",
       "  </thead>\n",
       "  <tbody>\n",
       "    <tr>\n",
       "      <th>1</th>\n",
       "      <td>0.23</td>\n",
       "      <td>chkngAcctStatus_A14</td>\n",
       "    </tr>\n",
       "    <tr>\n",
       "      <th>5</th>\n",
       "      <td>0.11</td>\n",
       "      <td>loanPurpose_A40</td>\n",
       "    </tr>\n",
       "    <tr>\n",
       "      <th>13</th>\n",
       "      <td>0.09</td>\n",
       "      <td>othrDebtorGuaranters_A103</td>\n",
       "    </tr>\n",
       "    <tr>\n",
       "      <th>4</th>\n",
       "      <td>0.08</td>\n",
       "      <td>creditHistory_A34</td>\n",
       "    </tr>\n",
       "    <tr>\n",
       "      <th>0</th>\n",
       "      <td>0.08</td>\n",
       "      <td>chkngAcctStatus_A13</td>\n",
       "    </tr>\n",
       "  </tbody>\n",
       "</table>\n",
       "</div>"
      ],
      "text/plain": [
       "    importance                     labels\n",
       "1         0.23        chkngAcctStatus_A14\n",
       "5         0.11            loanPurpose_A40\n",
       "13        0.09  othrDebtorGuaranters_A103\n",
       "4         0.08          creditHistory_A34\n",
       "0         0.08        chkngAcctStatus_A13"
      ]
     },
     "metadata": {},
     "output_type": "display_data"
    },
    {
     "data": {
      "image/png": "[encoded data removed]",
      "text/plain": [
       "<Figure size 1440x1296 with 1 Axes>"
      ]
     },
     "metadata": {},
     "output_type": "display_data"
    }
   ],
   "source": [
    "fig = plt.figure(figsize=(20, 18))\n",
    "ax = fig.add_subplot(111)\n",
    "\n",
    "df_f = pd.DataFrame(tree.feature_importances_, columns=[\"importance\"])\n",
    "df_f[\"labels\"] = var\n",
    "df_f.sort_values(\"importance\", inplace=True, ascending=False)\n",
    "display(df_f.head(5))\n",
    "\n",
    "index = np.arange(len(rf.feature_importances_))\n",
    "bar_width = 0.5\n",
    "rects = plt.barh(index , df_f[\"importance\"], bar_width, alpha=0.4, color='b', label='Main')\n",
    "plt.yticks(index, df_f[\"labels\"])\n",
    "plt.show()"
   ]
  },
  {
   "cell_type": "code",
   "execution_count": 270,
   "metadata": {},
   "outputs": [
    {
     "data": {
      "text/html": [
       "<div>\n",
       "<style scoped>\n",
       "    .dataframe tbody tr th:only-of-type {\n",
       "        vertical-align: middle;\n",
       "    }\n",
       "\n",
       "    .dataframe tbody tr th {\n",
       "        vertical-align: top;\n",
       "    }\n",
       "\n",
       "    .dataframe thead th {\n",
       "        text-align: right;\n",
       "    }\n",
       "</style>\n",
       "<table border=\"1\" class=\"dataframe\">\n",
       "  <thead>\n",
       "    <tr style=\"text-align: right;\">\n",
       "      <th></th>\n",
       "      <th>labels</th>\n",
       "      <th>importance</th>\n",
       "    </tr>\n",
       "  </thead>\n",
       "  <tbody>\n",
       "    <tr>\n",
       "      <th>1</th>\n",
       "      <td>chkngAcctStatus_A14</td>\n",
       "      <td>23.22%</td>\n",
       "    </tr>\n",
       "    <tr>\n",
       "      <th>5</th>\n",
       "      <td>loanPurpose_A40</td>\n",
       "      <td>11.21%</td>\n",
       "    </tr>\n",
       "    <tr>\n",
       "      <th>13</th>\n",
       "      <td>othrDebtorGuaranters_A103</td>\n",
       "      <td>9.29%</td>\n",
       "    </tr>\n",
       "    <tr>\n",
       "      <th>4</th>\n",
       "      <td>creditHistory_A34</td>\n",
       "      <td>8.47%</td>\n",
       "    </tr>\n",
       "    <tr>\n",
       "      <th>0</th>\n",
       "      <td>chkngAcctStatus_A13</td>\n",
       "      <td>7.73%</td>\n",
       "    </tr>\n",
       "    <tr>\n",
       "      <th>8</th>\n",
       "      <td>loanPurpose_A46</td>\n",
       "      <td>5.85%</td>\n",
       "    </tr>\n",
       "    <tr>\n",
       "      <th>11</th>\n",
       "      <td>crrntEmplmtSince_A74</td>\n",
       "      <td>5.69%</td>\n",
       "    </tr>\n",
       "    <tr>\n",
       "      <th>10</th>\n",
       "      <td>savingsTotal_A64</td>\n",
       "      <td>5.65%</td>\n",
       "    </tr>\n",
       "    <tr>\n",
       "      <th>3</th>\n",
       "      <td>creditHistory_A31</td>\n",
       "      <td>5.03%</td>\n",
       "    </tr>\n",
       "    <tr>\n",
       "      <th>2</th>\n",
       "      <td>creditHistory_A30</td>\n",
       "      <td>4.84%</td>\n",
       "    </tr>\n",
       "    <tr>\n",
       "      <th>12</th>\n",
       "      <td>othrDebtorGuaranters_A102</td>\n",
       "      <td>3.49%</td>\n",
       "    </tr>\n",
       "    <tr>\n",
       "      <th>7</th>\n",
       "      <td>loanPurpose_A45</td>\n",
       "      <td>3.30%</td>\n",
       "    </tr>\n",
       "    <tr>\n",
       "      <th>6</th>\n",
       "      <td>loanPurpose_A41</td>\n",
       "      <td>2.51%</td>\n",
       "    </tr>\n",
       "    <tr>\n",
       "      <th>14</th>\n",
       "      <td>foriegnWorker_A202</td>\n",
       "      <td>2.25%</td>\n",
       "    </tr>\n",
       "    <tr>\n",
       "      <th>9</th>\n",
       "      <td>loanPurpose_A48</td>\n",
       "      <td>1.44%</td>\n",
       "    </tr>\n",
       "  </tbody>\n",
       "</table>\n",
       "</div>"
      ],
      "text/plain": [
       "                       labels importance\n",
       "1         chkngAcctStatus_A14     23.22%\n",
       "5             loanPurpose_A40     11.21%\n",
       "13  othrDebtorGuaranters_A103      9.29%\n",
       "4           creditHistory_A34      8.47%\n",
       "0         chkngAcctStatus_A13      7.73%\n",
       "8             loanPurpose_A46      5.85%\n",
       "11       crrntEmplmtSince_A74      5.69%\n",
       "10           savingsTotal_A64      5.65%\n",
       "3           creditHistory_A31      5.03%\n",
       "2           creditHistory_A30      4.84%\n",
       "12  othrDebtorGuaranters_A102      3.49%\n",
       "7             loanPurpose_A45      3.30%\n",
       "6             loanPurpose_A41      2.51%\n",
       "14         foriegnWorker_A202      2.25%\n",
       "9             loanPurpose_A48      1.44%"
      ]
     },
     "execution_count": 270,
     "metadata": {},
     "output_type": "execute_result"
    }
   ],
   "source": [
    "df_f[\"importance\"]=df_f[\"importance\"]*100\n",
    "df_f[\"importance\"]=df_f[\"importance\"].map('{:,.2f}%'.format)\n",
    "pd.concat([df_f[\"labels\"], df_f[\"importance\"]], axis=1)\n",
    "\n"
   ]
  },
  {
   "cell_type": "code",
   "execution_count": 273,
   "metadata": {},
   "outputs": [
    {
     "data": {
      "text/plain": [
       "['modelo_entrenado.pkl']"
      ]
     },
     "execution_count": 273,
     "metadata": {},
     "output_type": "execute_result"
    }
   ],
   "source": [
    "from sklearn.externals import joblib\n",
    "joblib.dump(tree,'modelo_entrenado.pkl')"
   ]
  },
  {
   "cell_type": "code",
   "execution_count": 274,
   "metadata": {},
   "outputs": [],
   "source": [
    "tree=joblib.load('modelo_entrenado.pkl')"
   ]
  },
  {
   "cell_type": "code",
   "execution_count": null,
   "metadata": {},
   "outputs": [],
   "source": []
  }
 ],
 "metadata": {
  "kernelspec": {
   "display_name": "Python 3",
   "language": "python",
   "name": "python3"
  },
  "language_info": {
   "codemirror_mode": {
    "name": "ipython",
    "version": 3
   },
   "file_extension": ".py",
   "mimetype": "text/x-python",
   "name": "python",
   "nbconvert_exporter": "python",
   "pygments_lexer": "ipython3",
   "version": "3.6.5"
  }
 },
 "nbformat": 4,
 "nbformat_minor": 2
}
